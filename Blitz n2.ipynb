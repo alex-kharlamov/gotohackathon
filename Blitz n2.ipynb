{
 "cells": [
  {
   "cell_type": "code",
   "execution_count": 1,
   "metadata": {
    "collapsed": true
   },
   "outputs": [],
   "source": [
    "import numpy\n",
    "import pandas"
   ]
  },
  {
   "cell_type": "code",
   "execution_count": 2,
   "metadata": {
    "collapsed": true
   },
   "outputs": [],
   "source": [
    "events = pandas.read_csv('course-217-events.csv')\n",
    "structure = pandas.read_csv('course-217-structure.csv')"
   ]
  },
  {
   "cell_type": "code",
   "execution_count": 3,
   "metadata": {
    "collapsed": true
   },
   "outputs": [],
   "source": [
    "events.sort_values(by='time', inplace=True)"
   ]
  },
  {
   "cell_type": "code",
   "execution_count": 4,
   "metadata": {
    "collapsed": true
   },
   "outputs": [],
   "source": [
    "step_position = []\n",
    "\n",
    "for elem in structure.sort_values(['module_position','lesson_position','step_position']).step_id.values.tolist():\n",
    "    step_position.append(elem)"
   ]
  },
  {
   "cell_type": "code",
   "execution_count": 5,
   "metadata": {
    "collapsed": false
   },
   "outputs": [],
   "source": [
    "users_activity = {}\n",
    "\n",
    "for elem in (events.values):\n",
    "    temp_vec = users_activity.get(elem[0], [])\n",
    "    temp_vec.append(elem[2])\n",
    "    users_activity[elem[0]] =  temp_vec"
   ]
  },
  {
   "cell_type": "code",
   "execution_count": 6,
   "metadata": {
    "collapsed": false
   },
   "outputs": [],
   "source": [
    "step_returns = {}\n",
    "for user in users_activity.keys():\n",
    "    for i in range(len(users_activity[user])):\n",
    "        if users_activity[user][i] != 38518:\n",
    "            prev_step = step_position[step_position.index(users_activity[user][i]) - 1]\n",
    "            if (prev_step in users_activity[user][:i]) and (prev_step in users_activity[user][i:]):\n",
    "                if prev_step not in step_returns.keys():\n",
    "                    step_returns[prev_step] = set()\n",
    "                step_returns[prev_step].add(user)"
   ]
  },
  {
   "cell_type": "code",
   "execution_count": 7,
   "metadata": {
    "collapsed": false
   },
   "outputs": [],
   "source": [
    "all_counter = {}\n",
    "for elem in (events.values):\n",
    "    if elem[2] not in all_counter.keys():\n",
    "        all_counter[elem[2]] = set()\n",
    "    all_counter[elem[2]].add(elem[0])"
   ]
  },
  {
   "cell_type": "code",
   "execution_count": 8,
   "metadata": {
    "collapsed": false
   },
   "outputs": [],
   "source": [
    "ans = []\n",
    "for key in step_returns.keys():\n",
    "    ans.append([len(step_returns[key])/len(all_counter[key]), key])"
   ]
  },
  {
   "cell_type": "code",
   "execution_count": 9,
   "metadata": {
    "collapsed": false
   },
   "outputs": [],
   "source": [
    "ans.sort(reverse=True)"
   ]
  },
  {
   "cell_type": "code",
   "execution_count": 10,
   "metadata": {
    "collapsed": false
   },
   "outputs": [
    {
     "name": "stdout",
     "output_type": "stream",
     "text": [
      "41684,41604,41097,41481,42593,38872,41686,39735,39740,39717,"
     ]
    }
   ],
   "source": [
    "for elem in ans[:10]:\n",
    "    print(elem[1], end=',')"
   ]
  }
 ],
 "metadata": {
  "kernelspec": {
   "display_name": "Python [Root]",
   "language": "python",
   "name": "Python [Root]"
  },
  "language_info": {
   "codemirror_mode": {
    "name": "ipython",
    "version": 3
   },
   "file_extension": ".py",
   "mimetype": "text/x-python",
   "name": "python",
   "nbconvert_exporter": "python",
   "pygments_lexer": "ipython3",
   "version": "3.5.2"
  }
 },
 "nbformat": 4,
 "nbformat_minor": 0
}
