{
 "cells": [
  {
   "cell_type": "code",
   "execution_count": 1,
   "metadata": {
    "button": false,
    "collapsed": false,
    "deletable": true,
    "new_sheet": false,
    "run_control": {
     "read_only": false
    }
   },
   "outputs": [],
   "source": [
    "import pandas as pd\n",
    "import numpy as np\n",
    "import matplotlib.pyplot as plt\n",
    "\n",
    "\n",
    "def log_progress(sequence, every=None, size=None):\n",
    "    from ipywidgets import IntProgress, HTML, VBox\n",
    "    from IPython.display import display\n",
    "\n",
    "    is_iterator = False\n",
    "    if size is None:\n",
    "        try:\n",
    "            size = len(sequence)\n",
    "        except TypeError:\n",
    "            is_iterator = True\n",
    "    if size is not None:\n",
    "        if every is None:\n",
    "            if size <= 200:\n",
    "                every = 1\n",
    "            else:\n",
    "                every = size / 200     # every 0.5%\n",
    "    else:\n",
    "        assert every is not None, 'sequence is iterator, set every'\n",
    "\n",
    "    if is_iterator:\n",
    "        progress = IntProgress(min=0, max=1, value=1)\n",
    "        progress.bar_style = 'info'\n",
    "    else:\n",
    "        progress = IntProgress(min=0, max=size, value=0)\n",
    "    label = HTML()\n",
    "    box = VBox(children=[label, progress])\n",
    "    display(box)\n",
    "\n",
    "    index = 0\n",
    "    try:\n",
    "        for index, record in enumerate(sequence, 1):\n",
    "            if index == 1 or index % every == 0:\n",
    "                if is_iterator:\n",
    "                    label.value = '{index} / ?'.format(index=index)\n",
    "                else:\n",
    "                    progress.value = index\n",
    "                    label.value = u'{index} / {size}'.format(\n",
    "                        index=index,\n",
    "                        size=size\n",
    "                    )\n",
    "            yield record\n",
    "    except:\n",
    "        progress.bar_style = 'danger'\n",
    "        raise\n",
    "    else:\n",
    "        progress.bar_style = 'success'\n",
    "        progress.value = index\n",
    "        label.value = str(index or '?')"
   ]
  },
  {
   "cell_type": "code",
   "execution_count": 2,
   "metadata": {
    "button": false,
    "collapsed": false,
    "deletable": true,
    "new_sheet": false,
    "run_control": {
     "read_only": false
    }
   },
   "outputs": [],
   "source": [
    "location = ''\n",
    "events = pd.DataFrame.from_csv(location+\"events_modifyed.csv\",index_col=None)\n",
    "structure = pd.DataFrame.from_csv(location+\"structure.csv\",index_col=None)\n",
    "targets = pd.DataFrame.from_csv(location+\"targets.csv\",index_col=None)\n",
    "events_test = pd.DataFrame.from_csv(location+\"events_test_modifyed.csv\",index_col=None)"
   ]
  },
  {
   "cell_type": "code",
   "execution_count": 3,
   "metadata": {
    "collapsed": false
   },
   "outputs": [],
   "source": [
    "events.sort_values(by='time', inplace=True)"
   ]
  },
  {
   "cell_type": "code",
   "execution_count": null,
   "metadata": {
    "collapsed": false
   },
   "outputs": [],
   "source": [
    "for i, row in events_test.iterrows():\n",
    "    if events_test.loc[i,'action'] == 'discovered':\n",
    "        events_test.set_value(i, 'action', 1)\n",
    "    if events_test.loc[i, 'action'] == 'passed':\n",
    "        events_test.set_value(i, 'action', 2)\n",
    "    if events_test.loc[i, 'action'] == 'viewed':\n",
    "        events_test.set_value(i, 'action', 3)\n",
    "    if events_test.loc[i, 'action'] == 'started_attempt':\n",
    "        events_test.set_value(i, 'action', 4)\n",
    "    if events_test.loc[i, 'step_type'] == 'choice':\n",
    "        events_test.set_value(i, 'step_type', 1)\n",
    "    if events_test.loc[i, 'step_type'] == 'code':\n",
    "        events_test.set_value(i, 'step_type', 2)\n",
    "    if events_test.loc[i, 'step_type'] == 'number':\n",
    "        events_test.set_value(i, 'step_type', 3)\n",
    "    if events_test.loc[i, 'step_type'] == 'string':\n",
    "        events_test.set_value(i, 'step_type', 4)\n",
    "    if events_test.loc[i, 'step_type'] == 'text':\n",
    "        events_test.set_value(i, 'step_type', 5)\n",
    "    if events_test.loc[i, 'step_type'] == 'video':\n",
    "        events_test.set_value(i, 'step_type', 6)\n",
    "        "
   ]
  },
  {
   "cell_type": "code",
   "execution_count": 4,
   "metadata": {
    "collapsed": true
   },
   "outputs": [],
   "source": [
    "events.to_csv('events_modifyed.csv')"
   ]
  },
  {
   "cell_type": "code",
   "execution_count": 4,
   "metadata": {
    "collapsed": false
   },
   "outputs": [],
   "source": [
    "structure.sort_values(['module_position','lesson_position', 'step_position'], inplace=True)"
   ]
  },
  {
   "cell_type": "code",
   "execution_count": 5,
   "metadata": {
    "collapsed": false
   },
   "outputs": [],
   "source": [
    "step_id_position = structure.step_id.values.tolist()"
   ]
  },
  {
   "cell_type": "code",
   "execution_count": 6,
   "metadata": {
    "collapsed": false
   },
   "outputs": [],
   "source": [
    "X = []\n",
    "for us_id in log_progress(set(events.user_id.tolist())):\n",
    "    temp_us_data = events[events.user_id == us_id]\n",
    "    temp_us_to_app_vec = []\n",
    "    \n",
    "    temp_us_to_app_vec.append(us_id)\n",
    "    \n",
    "    temp_us_to_app_vec.append(temp_us_data.step_cost.sum())\n",
    "    temp_us_to_app_vec.append(temp_us_data.step_cost.mean())\n",
    "    temp_us_to_app_vec.extend(temp_us_data.step_cost.describe().tolist())\n",
    "    \n",
    "    temp_us_to_app_vec.append(temp_us_data.step_type.max())\n",
    "    temp_us_to_app_vec.append(temp_us_data.step_type.min())\n",
    "    temp_us_to_app_vec.extend(temp_us_data.step_type.describe().tolist())\n",
    "    temp_us_to_app_vec.extend([len(temp_us_data[temp_us_data.step_type == i]) for i in range(1,7)])\n",
    "    \n",
    "    temp_us_to_app_vec.append(temp_us_data.time.mean())\n",
    "    temp_us_to_app_vec.append(temp_us_data.time.max() - temp_us_data.time.min())\n",
    "    temp_us_to_app_vec.extend(temp_us_data.time.describe().values.tolist())\n",
    "    diff = []\n",
    "    vec = temp_us_data.time.values.tolist()\n",
    "    for i in range(len( vec) - 1):\n",
    "        diff.append(vec[i + 1] - vec[i])\n",
    "    if (len(diff) > 3):\n",
    "        diff = pd.DataFrame(diff)\n",
    "        for elem in diff.describe().values.tolist():\n",
    "            temp_us_to_app_vec.append(elem[0])\n",
    "        temp_us_to_app_vec.append(diff.sum())\n",
    "        temp_us_to_app_vec.append(diff.max() - diff.min())\n",
    "    else:\n",
    "        temp_us_to_app_vec.extend([0,0,0,0,0,0,0,0,0,0])\n",
    "    temp_us_to_app_vec.append(len(temp_us_data.time))\n",
    "\n",
    "    \n",
    "    temp_us_to_app_vec.extend(temp_us_data.action.describe().tolist())\n",
    "    temp_us_to_app_vec.extend([len(temp_us_data[temp_us_data.action == i]) for i in range(1,5)])\n",
    "    \n",
    "    pos_frame = pd.DataFrame([step_id_position.index(elem) for elem in temp_us_data.step_id])\n",
    "    for elem in pos_frame.describe().values.tolist():\n",
    "        temp_us_to_app_vec.append(elem[0])\n",
    "    \n",
    "    \n",
    "    X.append(temp_us_to_app_vec)\n",
    "Y = []\n",
    "\n",
    "for elem in log_progress(X):\n",
    "    Y.append([targets[targets.user_id == elem[0]].passed.values[0]])"
   ]
  },
  {
   "cell_type": "code",
   "execution_count": 7,
   "metadata": {
    "collapsed": false
   },
   "outputs": [],
   "source": [
    "X_test = []\n",
    "for us_id in log_progress(set(events_test.user_id.tolist())):\n",
    "    temp_us_data = events_test[events_test.user_id == us_id]\n",
    "    temp_us_to_app_vec = []\n",
    "    \n",
    "    temp_us_to_app_vec.append(us_id)\n",
    "    \n",
    "    temp_us_to_app_vec.append(temp_us_data.step_cost.sum())\n",
    "    temp_us_to_app_vec.append(temp_us_data.step_cost.mean())\n",
    "    temp_us_to_app_vec.extend(temp_us_data.step_cost.describe().tolist())\n",
    "    \n",
    "    temp_us_to_app_vec.append(temp_us_data.step_type.max())\n",
    "    temp_us_to_app_vec.append(temp_us_data.step_type.min())\n",
    "    temp_us_to_app_vec.extend(temp_us_data.step_type.describe().tolist())\n",
    "    temp_us_to_app_vec.extend([len(temp_us_data[temp_us_data.step_type == i]) for i in range(1,7)])\n",
    "    \n",
    "    temp_us_to_app_vec.append(temp_us_data.time.mean())\n",
    "    temp_us_to_app_vec.append(temp_us_data.time.max() - temp_us_data.time.min())\n",
    "    temp_us_to_app_vec.extend(temp_us_data.time.describe().values.tolist())\n",
    "    diff = []\n",
    "    vec = temp_us_data.time.values.tolist()\n",
    "    for i in range(len( vec) - 1):\n",
    "        diff.append(vec[i + 1] - vec[i])\n",
    "    if (len(diff) > 3):\n",
    "        diff = pd.DataFrame(diff)\n",
    "        for elem in diff.describe().values.tolist():\n",
    "            temp_us_to_app_vec.append(elem[0])\n",
    "        temp_us_to_app_vec.append(diff.sum())\n",
    "        temp_us_to_app_vec.append(diff.max() - diff.min())\n",
    "    else:\n",
    "        temp_us_to_app_vec.extend([0,0,0,0,0,0,0,0,0,0])\n",
    "    temp_us_to_app_vec.append(len(temp_us_data.time))\n",
    "\n",
    "    \n",
    "    temp_us_to_app_vec.extend(temp_us_data.action.describe().tolist())\n",
    "    temp_us_to_app_vec.extend([len(temp_us_data[temp_us_data.action == i]) for i in range(1,5)])\n",
    "    \n",
    "    pos_frame = pd.DataFrame([step_id_position.index(elem) for elem in temp_us_data.step_id])\n",
    "    for elem in pos_frame.describe().values.tolist():\n",
    "        temp_us_to_app_vec.append(elem[0])\n",
    "    \n",
    "    \n",
    "    X_test.append(temp_us_to_app_vec)"
   ]
  },
  {
   "cell_type": "code",
   "execution_count": 8,
   "metadata": {
    "collapsed": false
   },
   "outputs": [],
   "source": [
    "X_new = pd.DataFrame(X).fillna(method='bfill')\n",
    "X_test = pd.DataFrame(X_test).fillna(method='bfill')\n",
    "\n",
    "X_new = X_new.as_matrix()\n",
    "X_test = X_test.as_matrix()\n",
    "\n",
    "Y = np.ravel(Y)\n",
    "Y = Y.astype(np.int32)\n",
    "\n",
    "X_new = X_new.astype(np.float32)\n",
    "X_test = X_test.astype(np.float32)"
   ]
  },
  {
   "cell_type": "markdown",
   "metadata": {},
   "source": [
    "Обучение"
   ]
  },
  {
   "cell_type": "code",
   "execution_count": 57,
   "metadata": {
    "button": false,
    "collapsed": false,
    "deletable": true,
    "new_sheet": false,
    "run_control": {
     "read_only": false
    }
   },
   "outputs": [],
   "source": [
    "from sklearn.cross_validation import train_test_split\n",
    "from sklearn.metrics import f1_score\n",
    "\n",
    "Xtr,Xval,Ytr,Yval = train_test_split(X_new,Y,test_size=0.1,random_state=128)\n"
   ]
  },
  {
   "cell_type": "code",
   "execution_count": 63,
   "metadata": {
    "collapsed": false
   },
   "outputs": [],
   "source": [
    "from sklearn.ensemble import RandomForestClassifier\n",
    "from sklearn.preprocessing import PolynomialFeatures\n",
    "\n",
    "model = RandomForestClassifier(verbose=1, n_jobs = -1, n_estimators = 15000)\n",
    "\n",
    "X_new3 = PolynomialFeatures(3).fit_transform(X_new)"
   ]
  },
  {
   "cell_type": "code",
   "execution_count": 64,
   "metadata": {
    "button": false,
    "collapsed": false,
    "deletable": true,
    "new_sheet": false,
    "run_control": {
     "read_only": false
    }
   },
   "outputs": [
    {
     "name": "stderr",
     "output_type": "stream",
     "text": [
      "[Parallel(n_jobs=-1)]: Done  34 tasks      | elapsed:    7.8s\n",
      "[Parallel(n_jobs=-1)]: Done 184 tasks      | elapsed:   46.2s\n",
      "[Parallel(n_jobs=-1)]: Done 434 tasks      | elapsed:  1.7min\n",
      "[Parallel(n_jobs=-1)]: Done 784 tasks      | elapsed:  3.0min\n",
      "[Parallel(n_jobs=-1)]: Done 1234 tasks      | elapsed:  4.7min\n",
      "[Parallel(n_jobs=-1)]: Done 1784 tasks      | elapsed:  6.7min\n",
      "[Parallel(n_jobs=-1)]: Done 2434 tasks      | elapsed:  9.3min\n",
      "[Parallel(n_jobs=-1)]: Done 3184 tasks      | elapsed: 12.6min\n",
      "[Parallel(n_jobs=-1)]: Done 4034 tasks      | elapsed: 16.3min\n",
      "[Parallel(n_jobs=-1)]: Done 4984 tasks      | elapsed: 20.4min\n",
      "[Parallel(n_jobs=-1)]: Done 6034 tasks      | elapsed: 24.7min\n",
      "[Parallel(n_jobs=-1)]: Done 7184 tasks      | elapsed: 29.1min\n",
      "[Parallel(n_jobs=-1)]: Done 8434 tasks      | elapsed: 34.0min\n",
      "[Parallel(n_jobs=-1)]: Done 9784 tasks      | elapsed: 39.9min\n",
      "[Parallel(n_jobs=-1)]: Done 11234 tasks      | elapsed: 46.4min\n",
      "[Parallel(n_jobs=-1)]: Done 12784 tasks      | elapsed: 53.1min\n",
      "[Parallel(n_jobs=-1)]: Done 14434 tasks      | elapsed: 59.6min\n",
      "[Parallel(n_jobs=-1)]: Done 15000 out of 15000 | elapsed: 62.0min finished\n"
     ]
    },
    {
     "data": {
      "text/plain": [
       "RandomForestClassifier(bootstrap=True, class_weight=None, criterion='gini',\n",
       "            max_depth=None, max_features='auto', max_leaf_nodes=None,\n",
       "            min_impurity_split=1e-07, min_samples_leaf=1,\n",
       "            min_samples_split=2, min_weight_fraction_leaf=0.0,\n",
       "            n_estimators=15000, n_jobs=-1, oob_score=False,\n",
       "            random_state=None, verbose=1, warm_start=False)"
      ]
     },
     "execution_count": 64,
     "metadata": {},
     "output_type": "execute_result"
    }
   ],
   "source": [
    "#Обучим модель\n",
    "model.fit(X_new3, Y)"
   ]
  },
  {
   "cell_type": "code",
   "execution_count": 60,
   "metadata": {
    "collapsed": false,
    "scrolled": true
   },
   "outputs": [
    {
     "name": "stderr",
     "output_type": "stream",
     "text": [
      "[Parallel(n_jobs=8)]: Done  34 tasks      | elapsed:    0.0s\n",
      "[Parallel(n_jobs=8)]: Done 184 tasks      | elapsed:    0.1s\n",
      "[Parallel(n_jobs=8)]: Done 434 tasks      | elapsed:    0.2s\n",
      "[Parallel(n_jobs=8)]: Done 784 tasks      | elapsed:    0.3s\n",
      "[Parallel(n_jobs=8)]: Done 1234 tasks      | elapsed:    0.4s\n",
      "[Parallel(n_jobs=8)]: Done 1784 tasks      | elapsed:    0.6s\n",
      "[Parallel(n_jobs=8)]: Done 2434 tasks      | elapsed:    0.9s\n",
      "[Parallel(n_jobs=8)]: Done 3184 tasks      | elapsed:    1.1s\n",
      "[Parallel(n_jobs=8)]: Done 4034 tasks      | elapsed:    1.4s\n",
      "[Parallel(n_jobs=8)]: Done 4984 tasks      | elapsed:    1.7s\n",
      "[Parallel(n_jobs=8)]: Done 6034 tasks      | elapsed:    2.0s\n",
      "[Parallel(n_jobs=8)]: Done 7184 tasks      | elapsed:    2.4s\n",
      "[Parallel(n_jobs=8)]: Done 8434 tasks      | elapsed:    2.8s\n",
      "[Parallel(n_jobs=8)]: Done 9784 tasks      | elapsed:    3.3s\n",
      "[Parallel(n_jobs=8)]: Done 11234 tasks      | elapsed:    3.7s\n",
      "[Parallel(n_jobs=8)]: Done 12784 tasks      | elapsed:    4.3s\n",
      "[Parallel(n_jobs=8)]: Done 14434 tasks      | elapsed:    4.8s\n",
      "[Parallel(n_jobs=8)]: Done 15000 out of 15000 | elapsed:    5.0s finished\n"
     ]
    },
    {
     "data": {
      "text/plain": [
       "0.60000000000000009"
      ]
     },
     "execution_count": 60,
     "metadata": {},
     "output_type": "execute_result"
    }
   ],
   "source": [
    "f1_score(Yval, model.predict(Xval))"
   ]
  },
  {
   "cell_type": "code",
   "execution_count": 61,
   "metadata": {
    "collapsed": false,
    "scrolled": true
   },
   "outputs": [
    {
     "name": "stderr",
     "output_type": "stream",
     "text": [
      "[Parallel(n_jobs=8)]: Done  34 tasks      | elapsed:    0.0s\n",
      "[Parallel(n_jobs=8)]: Done 184 tasks      | elapsed:    0.1s\n",
      "[Parallel(n_jobs=8)]: Done 434 tasks      | elapsed:    0.1s\n",
      "[Parallel(n_jobs=8)]: Done 784 tasks      | elapsed:    0.3s\n",
      "[Parallel(n_jobs=8)]: Done 1234 tasks      | elapsed:    0.4s\n",
      "[Parallel(n_jobs=8)]: Done 1784 tasks      | elapsed:    0.6s\n",
      "[Parallel(n_jobs=8)]: Done 2434 tasks      | elapsed:    0.8s\n",
      "[Parallel(n_jobs=8)]: Done 3184 tasks      | elapsed:    1.1s\n",
      "[Parallel(n_jobs=8)]: Done 4034 tasks      | elapsed:    1.3s\n",
      "[Parallel(n_jobs=8)]: Done 4984 tasks      | elapsed:    1.6s\n",
      "[Parallel(n_jobs=8)]: Done 6034 tasks      | elapsed:    2.0s\n",
      "[Parallel(n_jobs=8)]: Done 7184 tasks      | elapsed:    2.4s\n",
      "[Parallel(n_jobs=8)]: Done 8434 tasks      | elapsed:    2.8s\n",
      "[Parallel(n_jobs=8)]: Done 9784 tasks      | elapsed:    3.2s\n",
      "[Parallel(n_jobs=8)]: Done 11234 tasks      | elapsed:    3.7s\n",
      "[Parallel(n_jobs=8)]: Done 12784 tasks      | elapsed:    4.2s\n",
      "[Parallel(n_jobs=8)]: Done 14434 tasks      | elapsed:    4.7s\n",
      "[Parallel(n_jobs=8)]: Done 15000 out of 15000 | elapsed:    4.9s finished\n",
      "/home/axcel/anaconda3/lib/python3.5/site-packages/sklearn/metrics/classification.py:1113: UndefinedMetricWarning: F-score is ill-defined and being set to 0.0 due to no predicted samples.\n",
      "  'precision', 'predicted', average, warn_for)\n"
     ]
    }
   ],
   "source": [
    "pred_prob = model.predict_proba(Xval)\n",
    "\n",
    "\n",
    "f1_score_temp = []\n",
    "\n",
    "for i in range(10000):\n",
    "    ans = []\n",
    "    eps = i * 0.0001\n",
    "    for elem in pred_prob:\n",
    "        if elem[1] > eps:\n",
    "            ans.append(1)\n",
    "        else:\n",
    "            ans.append(0)\n",
    "    f1_score_temp.append(f1_score(Yval, ans))\n"
   ]
  },
  {
   "cell_type": "code",
   "execution_count": 62,
   "metadata": {
    "collapsed": false
   },
   "outputs": [
    {
     "name": "stdout",
     "output_type": "stream",
     "text": [
      "0.694214876033\n",
      "4404\n"
     ]
    }
   ],
   "source": [
    "maxnum = 0\n",
    "pos = 0\n",
    "for i in range(len(f1_score_temp)):\n",
    "    if maxnum < f1_score_temp[i]:\n",
    "        maxnum = f1_score_temp[i]\n",
    "        pos = i\n",
    "print(maxnum)\n",
    "print(pos)"
   ]
  },
  {
   "cell_type": "code",
   "execution_count": 65,
   "metadata": {
    "collapsed": false
   },
   "outputs": [
    {
     "name": "stderr",
     "output_type": "stream",
     "text": [
      "[Parallel(n_jobs=8)]: Done  34 tasks      | elapsed:    0.0s\n",
      "[Parallel(n_jobs=8)]: Done 184 tasks      | elapsed:    0.2s\n",
      "[Parallel(n_jobs=8)]: Done 434 tasks      | elapsed:    0.4s\n",
      "[Parallel(n_jobs=8)]: Done 784 tasks      | elapsed:    0.7s\n",
      "[Parallel(n_jobs=8)]: Done 1234 tasks      | elapsed:    1.0s\n",
      "[Parallel(n_jobs=8)]: Done 1784 tasks      | elapsed:    1.5s\n",
      "[Parallel(n_jobs=8)]: Done 2434 tasks      | elapsed:    2.0s\n",
      "[Parallel(n_jobs=8)]: Done 3184 tasks      | elapsed:    2.6s\n",
      "[Parallel(n_jobs=8)]: Done 4034 tasks      | elapsed:    3.2s\n",
      "[Parallel(n_jobs=8)]: Done 4984 tasks      | elapsed:    4.1s\n",
      "[Parallel(n_jobs=8)]: Done 6034 tasks      | elapsed:    5.1s\n",
      "[Parallel(n_jobs=8)]: Done 7184 tasks      | elapsed:    6.1s\n",
      "[Parallel(n_jobs=8)]: Done 8434 tasks      | elapsed:    7.2s\n",
      "[Parallel(n_jobs=8)]: Done 9784 tasks      | elapsed:    8.4s\n",
      "[Parallel(n_jobs=8)]: Done 11234 tasks      | elapsed:    9.6s\n",
      "[Parallel(n_jobs=8)]: Done 12784 tasks      | elapsed:   10.7s\n",
      "[Parallel(n_jobs=8)]: Done 14434 tasks      | elapsed:   12.1s\n",
      "[Parallel(n_jobs=8)]: Done 15000 out of 15000 | elapsed:   12.6s finished\n"
     ]
    }
   ],
   "source": [
    "ans = []\n",
    "pred_prob = model.predict_proba(PolynomialFeatures(3).fit_transform(X_test))\n",
    "\n",
    "for elem in pred_prob:\n",
    "    if elem[1] > 0.44:\n",
    "        ans.append(1)\n",
    "    else:\n",
    "        ans.append(0)\n"
   ]
  },
  {
   "cell_type": "code",
   "execution_count": 142,
   "metadata": {
    "collapsed": false
   },
   "outputs": [
    {
     "data": {
      "text/plain": [
       "0.60000000000000009"
      ]
     },
     "execution_count": 142,
     "metadata": {},
     "output_type": "execute_result"
    }
   ],
   "source": [
    "f1_score(Yval, ans)"
   ]
  },
  {
   "cell_type": "code",
   "execution_count": 67,
   "metadata": {
    "collapsed": false
   },
   "outputs": [],
   "source": [
    "ind = []\n",
    "for elem in X_test:\n",
    "    ind.append(int(elem[0]))"
   ]
  },
  {
   "cell_type": "code",
   "execution_count": 69,
   "metadata": {
    "button": false,
    "collapsed": false,
    "deletable": true,
    "new_sheet": false,
    "run_control": {
     "read_only": false
    }
   },
   "outputs": [],
   "source": [
    "def create_submission(X, name):\n",
    "    np.savetxt('%s.csv'%name, X, delimiter=',', fmt=\"%d\", header='user_id,passed', comments='')\n",
    "    \n",
    "ans = model.predict(PolynomialFeatures(3).fit_transform(X_test))\n",
    "#ans = model.predict(X_test)\n",
    "\n",
    "result = np.concatenate((np.asarray(ind, dtype=int).reshape(-1, 1), np.asarray(ans, dtype=int).reshape(-1, 1)), axis=1)\n",
    "create_submission(result, '69full_randforest_pol_feat3')"
   ]
  }
 ],
 "metadata": {
  "anaconda-cloud": {},
  "kernelspec": {
   "display_name": "Python [Root]",
   "language": "python",
   "name": "Python [Root]"
  },
  "language_info": {
   "codemirror_mode": {
    "name": "ipython",
    "version": 3
   },
   "file_extension": ".py",
   "mimetype": "text/x-python",
   "name": "python",
   "nbconvert_exporter": "python",
   "pygments_lexer": "ipython3",
   "version": "3.5.2"
  },
  "widgets": {
   "state": {
    "65713c50379e4c5a996da04df53bb137": {
     "views": [
      {
       "cell_index": 13
      }
     ]
    },
    "6694d35dc00a4507afd4c23d9b525f5a": {
     "views": [
      {
       "cell_index": 12
      }
     ]
    },
    "733208615ad74258955b2313fc7dee86": {
     "views": [
      {
       "cell_index": 9
      }
     ]
    },
    "93d85def9ee94005adf8cdf97f369e5e": {
     "views": [
      {
       "cell_index": 9
      }
     ]
    },
    "c6122c88525e4d4ea1398a6b1f2d588e": {
     "views": [
      {
       "cell_index": 9
      }
     ]
    },
    "dd38edc0ad9b4f76bfa6cbfe39227235": {
     "views": [
      {
       "cell_index": 12
      }
     ]
    },
    "e1c59cc7b24548c7b184dd184fa86e34": {
     "views": [
      {
       "cell_index": 12
      }
     ]
    }
   },
   "version": "1.2.0"
  }
 },
 "nbformat": 4,
 "nbformat_minor": 1
}
