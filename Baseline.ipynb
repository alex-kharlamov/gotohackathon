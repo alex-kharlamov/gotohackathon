{
 "cells": [
  {
   "cell_type": "code",
   "execution_count": 2,
   "metadata": {
    "button": false,
    "collapsed": false,
    "deletable": true,
    "new_sheet": false,
    "run_control": {
     "read_only": false
    }
   },
   "outputs": [],
   "source": [
    "import pandas as pd\n",
    "import numpy as np\n",
    "from sklearn.ensemble import RandomForestClassifier\n",
    "import matplotlib.pyplot as plt\n",
    "#from sklearn.neural_network import MLPClassifier\n",
    "\n",
    "def log_progress(sequence, every=None, size=None):\n",
    "    from ipywidgets import IntProgress, HTML, VBox\n",
    "    from IPython.display import display\n",
    "\n",
    "    is_iterator = False\n",
    "    if size is None:\n",
    "        try:\n",
    "            size = len(sequence)\n",
    "        except TypeError:\n",
    "            is_iterator = True\n",
    "    if size is not None:\n",
    "        if every is None:\n",
    "            if size <= 200:\n",
    "                every = 1\n",
    "            else:\n",
    "                every = size / 200     # every 0.5%\n",
    "    else:\n",
    "        assert every is not None, 'sequence is iterator, set every'\n",
    "\n",
    "    if is_iterator:\n",
    "        progress = IntProgress(min=0, max=1, value=1)\n",
    "        progress.bar_style = 'info'\n",
    "    else:\n",
    "        progress = IntProgress(min=0, max=size, value=0)\n",
    "    label = HTML()\n",
    "    box = VBox(children=[label, progress])\n",
    "    display(box)\n",
    "\n",
    "    index = 0\n",
    "    try:\n",
    "        for index, record in enumerate(sequence, 1):\n",
    "            if index == 1 or index % every == 0:\n",
    "                if is_iterator:\n",
    "                    label.value = '{index} / ?'.format(index=index)\n",
    "                else:\n",
    "                    progress.value = index\n",
    "                    label.value = u'{index} / {size}'.format(\n",
    "                        index=index,\n",
    "                        size=size\n",
    "                    )\n",
    "            yield record\n",
    "    except:\n",
    "        progress.bar_style = 'danger'\n",
    "        raise\n",
    "    else:\n",
    "        progress.bar_style = 'success'\n",
    "        progress.value = index\n",
    "        label.value = str(index or '?')"
   ]
  },
  {
   "cell_type": "code",
   "execution_count": 3,
   "metadata": {
    "button": false,
    "collapsed": false,
    "deletable": true,
    "new_sheet": false,
    "run_control": {
     "read_only": false
    }
   },
   "outputs": [],
   "source": [
    "location = ''\n",
    "events = pd.DataFrame.from_csv(location+\"events_modifyed.csv\",index_col=None)\n",
    "structure = pd.DataFrame.from_csv(location+\"structure.csv\",index_col=None)\n",
    "targets = pd.DataFrame.from_csv(location+\"targets.csv\",index_col=None)\n",
    "events_test = pd.DataFrame.from_csv(location+\"events_test_modifyed.csv\",index_col=None)"
   ]
  },
  {
   "cell_type": "code",
   "execution_count": 4,
   "metadata": {
    "collapsed": false
   },
   "outputs": [],
   "source": [
    "events.sort_values(by='time', inplace=True)"
   ]
  },
  {
   "cell_type": "code",
   "execution_count": null,
   "metadata": {
    "collapsed": false
   },
   "outputs": [],
   "source": [
    "for i, row in events_test.iterrows():\n",
    "    if events_test.loc[i,'action'] == 'discovered':\n",
    "        events_test.set_value(i, 'action', 1)\n",
    "    if events_test.loc[i, 'action'] == 'passed':\n",
    "        events_test.set_value(i, 'action', 2)\n",
    "    if events_test.loc[i, 'action'] == 'viewed':\n",
    "        events_test.set_value(i, 'action', 3)\n",
    "    if events_test.loc[i, 'action'] == 'started_attempt':\n",
    "        events_test.set_value(i, 'action', 4)\n",
    "    if events_test.loc[i, 'step_type'] == 'choice':\n",
    "        events_test.set_value(i, 'step_type', 1)\n",
    "    if events_test.loc[i, 'step_type'] == 'code':\n",
    "        events_test.set_value(i, 'step_type', 2)\n",
    "    if events_test.loc[i, 'step_type'] == 'number':\n",
    "        events_test.set_value(i, 'step_type', 3)\n",
    "    if events_test.loc[i, 'step_type'] == 'string':\n",
    "        events_test.set_value(i, 'step_type', 4)\n",
    "    if events_test.loc[i, 'step_type'] == 'text':\n",
    "        events_test.set_value(i, 'step_type', 5)\n",
    "    if events_test.loc[i, 'step_type'] == 'video':\n",
    "        events_test.set_value(i, 'step_type', 6)\n",
    "        "
   ]
  },
  {
   "cell_type": "code",
   "execution_count": 91,
   "metadata": {
    "collapsed": true
   },
   "outputs": [],
   "source": [
    "events.to_csv('events_modifyed.csv')"
   ]
  },
  {
   "cell_type": "code",
   "execution_count": 4,
   "metadata": {
    "collapsed": false
   },
   "outputs": [],
   "source": [
    "structure.sort_values(['module_position','lesson_position', 'step_position'], inplace=True)"
   ]
  },
  {
   "cell_type": "code",
   "execution_count": 5,
   "metadata": {
    "collapsed": false
   },
   "outputs": [],
   "source": [
    "step_id_position = structure.step_id.values.tolist()"
   ]
  },
  {
   "cell_type": "code",
   "execution_count": 6,
   "metadata": {
    "collapsed": false
   },
   "outputs": [],
   "source": [
    "X = [] #по каждому юзеру имеем век. где параметры : id, набран счет, популяр.рубрика\n",
    "for us_id in log_progress(set(events.user_id.tolist())):\n",
    "    temp_us_data = events[events.user_id == us_id]\n",
    "    temp_us_to_app_vec = []\n",
    "    \n",
    "    temp_us_to_app_vec.append(us_id)\n",
    "    \n",
    "    temp_us_to_app_vec.append(temp_us_data.step_cost.sum())\n",
    "    temp_us_to_app_vec.append(temp_us_data.step_cost.mean())\n",
    "    temp_us_to_app_vec.extend(temp_us_data.step_cost.describe().tolist())\n",
    "    \n",
    "    temp_us_to_app_vec.append(temp_us_data.step_type.max())\n",
    "    temp_us_to_app_vec.append(temp_us_data.step_type.min())\n",
    "    temp_us_to_app_vec.extend(temp_us_data.step_type.describe().tolist())\n",
    "    temp_us_to_app_vec.extend([len(temp_us_data[temp_us_data.step_type == i]) for i in range(1,7)])\n",
    "    \n",
    "    temp_us_to_app_vec.append(temp_us_data.time.mean())\n",
    "    temp_us_to_app_vec.append(temp_us_data.time.max() - temp_us_data.time.min())\n",
    "    temp_us_to_app_vec.extend(temp_us_data.time.describe().values.tolist())\n",
    "\n",
    "\n",
    "    temp_us_to_app_vec.extend(temp_us_data.action.describe().tolist())\n",
    "    temp_us_to_app_vec.extend([len(temp_us_data[temp_us_data.action == i]) for i in range(1,5)])\n",
    "    \n",
    "    pos_frame = pd.DataFrame([step_id_position.index(elem) for elem in temp_us_data.step_id])\n",
    "    for elem in pos_frame.describe().values.tolist():\n",
    "        temp_us_to_app_vec.append(elem[0])\n",
    "    \n",
    "    \n",
    "    X.append(temp_us_to_app_vec)\n",
    "Y = []\n",
    "\n",
    "for elem in log_progress(X):\n",
    "    Y.append([targets[targets.user_id == elem[0]].passed.values[0]])"
   ]
  },
  {
   "cell_type": "code",
   "execution_count": 7,
   "metadata": {
    "collapsed": false
   },
   "outputs": [],
   "source": [
    "X_test = [] #по каждому юзеру имеем век. где параметры : id, набран счет, популяр.рубрика\n",
    "for us_id in log_progress(set(events_test.user_id.tolist())):\n",
    "    temp_us_data = events_test[events_test.user_id == us_id]\n",
    "    temp_us_to_app_vec = []\n",
    "    \n",
    "    temp_us_to_app_vec.append(us_id)\n",
    "    \n",
    "    temp_us_to_app_vec.append(temp_us_data.step_cost.sum())\n",
    "    temp_us_to_app_vec.append(temp_us_data.step_cost.mean())\n",
    "    temp_us_to_app_vec.extend(temp_us_data.step_cost.describe().tolist())\n",
    "    \n",
    "    temp_us_to_app_vec.append(temp_us_data.step_type.max())\n",
    "    temp_us_to_app_vec.append(temp_us_data.step_type.min())\n",
    "    temp_us_to_app_vec.extend(temp_us_data.step_type.describe().tolist())\n",
    "    temp_us_to_app_vec.extend([len(temp_us_data[temp_us_data.step_type == i]) for i in range(1,7)])\n",
    "    \n",
    "    temp_us_to_app_vec.append(temp_us_data.time.mean())\n",
    "    temp_us_to_app_vec.append(temp_us_data.time.max() - temp_us_data.time.min())\n",
    "    temp_us_to_app_vec.extend(temp_us_data.time.describe().values.tolist())\n",
    "\n",
    "\n",
    "    temp_us_to_app_vec.extend(temp_us_data.action.describe().tolist())\n",
    "    temp_us_to_app_vec.extend([len(temp_us_data[temp_us_data.action == i]) for i in range(1,5)])\n",
    "    \n",
    "    pos_frame = pd.DataFrame([step_id_position.index(elem) for elem in temp_us_data.step_id])\n",
    "    for elem in pos_frame.describe().values.tolist():\n",
    "        temp_us_to_app_vec.append(elem[0])\n",
    "    \n",
    "    \n",
    "    X_test.append(temp_us_to_app_vec)"
   ]
  },
  {
   "cell_type": "code",
   "execution_count": 8,
   "metadata": {
    "collapsed": false
   },
   "outputs": [],
   "source": [
    "X_new = pd.DataFrame(X).fillna(method='ffill')\n",
    "X_test = pd.DataFrame(X_test).fillna(method='ffill')\n",
    "\n",
    "X_new = X_new.as_matrix()\n",
    "\n",
    "Y = np.ravel(Y)\n",
    "Y = Y.astype(np.int32)\n",
    "\n",
    "X_new = X_new.astype(np.float32)"
   ]
  },
  {
   "cell_type": "code",
   "execution_count": null,
   "metadata": {
    "collapsed": false
   },
   "outputs": [],
   "source": [
    "from sklearn.manifold import TSNE\n",
    "\n",
    "model = TSNE()\n",
    "\n",
    "plt.plot(model.fit_transform(X_new[:100]))\n"
   ]
  },
  {
   "cell_type": "code",
   "execution_count": 50,
   "metadata": {
    "button": false,
    "collapsed": false,
    "deletable": true,
    "new_sheet": false,
    "run_control": {
     "read_only": false
    }
   },
   "outputs": [],
   "source": [
    "#model = DummyClassifier( constant=0)\n",
    "from sklearn.ensemble import ExtraTreesClassifier\n",
    "model =  ExtraTreesClassifier(verbose=1, n_jobs = -1, n_estimators=1000)"
   ]
  },
  {
   "cell_type": "code",
   "execution_count": 166,
   "metadata": {
    "collapsed": false
   },
   "outputs": [],
   "source": [
    "from sklearn.linear_model import SGDClassifier\n",
    "model = SGDClassifier( n_jobs=-1, verbose=True, n_iter=1000)"
   ]
  },
  {
   "cell_type": "code",
   "execution_count": 315,
   "metadata": {
    "collapsed": true
   },
   "outputs": [],
   "source": [
    "from sklearn.neighbors import KNeighborsClassifier\n",
    "model = KNeighborsClassifier(n_jobs=-1, n_neighbors=2)"
   ]
  },
  {
   "cell_type": "code",
   "execution_count": 136,
   "metadata": {
    "collapsed": true
   },
   "outputs": [],
   "source": [
    "from sklearn.neural_network import MLPClassifier\n",
    "model = MLPClassifier(hidden_layer_sizes=(98,47,2), verbose=True)"
   ]
  },
  {
   "cell_type": "code",
   "execution_count": 10,
   "metadata": {
    "collapsed": false
   },
   "outputs": [],
   "source": [
    "from sklearn.ensemble import RandomForestClassifier\n",
    "from sklearn.preprocessing import PolynomialFeatures\n",
    "\n",
    "model = RandomForestClassifier(verbose=1, n_jobs = -1, n_estimators = 10000)"
   ]
  },
  {
   "cell_type": "code",
   "execution_count": 80,
   "metadata": {
    "collapsed": true
   },
   "outputs": [],
   "source": [
    "from xgboost import XGBClassifier\n",
    "\n",
    "model = XGBClassifier(n_estimators=1000, silent=False, max_depth= 10)"
   ]
  },
  {
   "cell_type": "code",
   "execution_count": 28,
   "metadata": {
    "button": false,
    "collapsed": false,
    "deletable": true,
    "new_sheet": false,
    "run_control": {
     "read_only": false
    }
   },
   "outputs": [],
   "source": [
    "from sklearn.cross_validation import train_test_split\n",
    "from sklearn.metrics import f1_score\n",
    "#Поделим нашу выборку на train и validation\n",
    "Xtr,Xval,Ytr,Yval = train_test_split(X_new,Y,test_size=0.2,random_state=128)\n",
    "\n",
    "Xtr = PolynomialFeatures(3).fit_transform(Xtr)\n",
    "Xval = PolynomialFeatures(3).fit_transform(Xval)"
   ]
  },
  {
   "cell_type": "code",
   "execution_count": 29,
   "metadata": {
    "button": false,
    "collapsed": false,
    "deletable": true,
    "new_sheet": false,
    "run_control": {
     "read_only": false
    }
   },
   "outputs": [
    {
     "name": "stderr",
     "output_type": "stream",
     "text": [
      "[Parallel(n_jobs=-1)]: Done  34 tasks      | elapsed:    5.7s\n",
      "[Parallel(n_jobs=-1)]: Done 184 tasks      | elapsed:   26.8s\n",
      "[Parallel(n_jobs=-1)]: Done 434 tasks      | elapsed:  1.1min\n",
      "[Parallel(n_jobs=-1)]: Done 784 tasks      | elapsed:  1.9min\n",
      "[Parallel(n_jobs=-1)]: Done 1234 tasks      | elapsed:  2.9min\n",
      "[Parallel(n_jobs=-1)]: Done 1784 tasks      | elapsed:  4.1min\n",
      "[Parallel(n_jobs=-1)]: Done 2434 tasks      | elapsed:  5.6min\n",
      "[Parallel(n_jobs=-1)]: Done 3184 tasks      | elapsed:  7.3min\n",
      "[Parallel(n_jobs=-1)]: Done 4034 tasks      | elapsed:  9.3min\n",
      "[Parallel(n_jobs=-1)]: Done 4984 tasks      | elapsed: 11.4min\n",
      "[Parallel(n_jobs=-1)]: Done 6034 tasks      | elapsed: 13.8min\n",
      "[Parallel(n_jobs=-1)]: Done 7184 tasks      | elapsed: 16.5min\n",
      "[Parallel(n_jobs=-1)]: Done 8434 tasks      | elapsed: 19.5min\n",
      "[Parallel(n_jobs=-1)]: Done 9784 tasks      | elapsed: 22.6min\n",
      "[Parallel(n_jobs=-1)]: Done 10000 out of 10000 | elapsed: 23.1min finished\n"
     ]
    },
    {
     "data": {
      "text/plain": [
       "RandomForestClassifier(bootstrap=True, class_weight=None, criterion='gini',\n",
       "            max_depth=None, max_features='auto', max_leaf_nodes=None,\n",
       "            min_impurity_split=1e-07, min_samples_leaf=1,\n",
       "            min_samples_split=2, min_weight_fraction_leaf=0.0,\n",
       "            n_estimators=10000, n_jobs=-1, oob_score=False,\n",
       "            random_state=None, verbose=1, warm_start=False)"
      ]
     },
     "execution_count": 29,
     "metadata": {},
     "output_type": "execute_result"
    }
   ],
   "source": [
    "#Обучим модель\n",
    "model.fit(Xtr, Ytr)"
   ]
  },
  {
   "cell_type": "code",
   "execution_count": 94,
   "metadata": {
    "collapsed": false
   },
   "outputs": [
    {
     "name": "stderr",
     "output_type": "stream",
     "text": [
      "[Parallel(n_jobs=-1)]: Done  34 tasks      | elapsed:    1.2s\n",
      "[Parallel(n_jobs=-1)]: Done 184 tasks      | elapsed:    6.5s\n",
      "[Parallel(n_jobs=-1)]: Done 434 tasks      | elapsed:   13.5s\n",
      "[Parallel(n_jobs=-1)]: Done 784 tasks      | elapsed:   23.4s\n",
      "[Parallel(n_jobs=-1)]: Done 1234 tasks      | elapsed:   35.5s\n",
      "[Parallel(n_jobs=-1)]: Done 1784 tasks      | elapsed:   50.2s\n",
      "[Parallel(n_jobs=-1)]: Done 2434 tasks      | elapsed:  1.1min\n",
      "[Parallel(n_jobs=-1)]: Done 3184 tasks      | elapsed:  1.5min\n",
      "[Parallel(n_jobs=-1)]: Done 4034 tasks      | elapsed:  1.8min\n",
      "[Parallel(n_jobs=-1)]: Done 4984 tasks      | elapsed:  2.3min\n",
      "[Parallel(n_jobs=-1)]: Done 6034 tasks      | elapsed:  2.7min\n",
      "[Parallel(n_jobs=-1)]: Done 7184 tasks      | elapsed:  3.2min\n",
      "[Parallel(n_jobs=-1)]: Done 8434 tasks      | elapsed:  3.8min\n",
      "[Parallel(n_jobs=-1)]: Done 9784 tasks      | elapsed:  4.4min\n",
      "[Parallel(n_jobs=-1)]: Done 10000 out of 10000 | elapsed:  4.5min finished\n",
      "[Parallel(n_jobs=8)]: Done  34 tasks      | elapsed:    0.0s\n",
      "[Parallel(n_jobs=8)]: Done 184 tasks      | elapsed:    0.1s\n",
      "[Parallel(n_jobs=8)]: Done 434 tasks      | elapsed:    0.2s\n",
      "[Parallel(n_jobs=8)]: Done 784 tasks      | elapsed:    0.4s\n",
      "[Parallel(n_jobs=8)]: Done 1234 tasks      | elapsed:    0.6s\n",
      "[Parallel(n_jobs=8)]: Done 1784 tasks      | elapsed:    0.8s\n",
      "[Parallel(n_jobs=8)]: Done 2434 tasks      | elapsed:    1.0s\n",
      "[Parallel(n_jobs=8)]: Done 3184 tasks      | elapsed:    1.3s\n",
      "[Parallel(n_jobs=8)]: Done 4034 tasks      | elapsed:    1.7s\n",
      "[Parallel(n_jobs=8)]: Done 4984 tasks      | elapsed:    2.0s\n",
      "[Parallel(n_jobs=8)]: Done 6034 tasks      | elapsed:    2.4s\n",
      "[Parallel(n_jobs=8)]: Done 7184 tasks      | elapsed:    2.9s\n",
      "[Parallel(n_jobs=8)]: Done 8434 tasks      | elapsed:    3.4s\n",
      "[Parallel(n_jobs=8)]: Done 9784 tasks      | elapsed:    3.9s\n",
      "[Parallel(n_jobs=8)]: Done 10000 out of 10000 | elapsed:    4.0s finished\n",
      "[Parallel(n_jobs=-1)]: Done  34 tasks      | elapsed:    1.0s\n",
      "[Parallel(n_jobs=-1)]: Done 184 tasks      | elapsed:    4.9s\n",
      "[Parallel(n_jobs=-1)]: Done 434 tasks      | elapsed:   11.3s\n",
      "[Parallel(n_jobs=-1)]: Done 784 tasks      | elapsed:   20.4s\n",
      "[Parallel(n_jobs=-1)]: Done 1234 tasks      | elapsed:   32.2s\n",
      "[Parallel(n_jobs=-1)]: Done 1784 tasks      | elapsed:   46.7s\n",
      "[Parallel(n_jobs=-1)]: Done 2434 tasks      | elapsed:  1.1min\n",
      "[Parallel(n_jobs=-1)]: Done 3184 tasks      | elapsed:  1.4min\n",
      "[Parallel(n_jobs=-1)]: Done 4034 tasks      | elapsed:  1.8min\n",
      "[Parallel(n_jobs=-1)]: Done 4984 tasks      | elapsed:  2.2min\n",
      "[Parallel(n_jobs=-1)]: Done 6034 tasks      | elapsed:  2.6min\n",
      "[Parallel(n_jobs=-1)]: Done 7184 tasks      | elapsed:  3.1min\n",
      "[Parallel(n_jobs=-1)]: Done 8434 tasks      | elapsed:  3.7min\n",
      "[Parallel(n_jobs=-1)]: Done 9784 tasks      | elapsed:  4.3min\n",
      "[Parallel(n_jobs=-1)]: Done 10000 out of 10000 | elapsed:  4.3min finished\n",
      "[Parallel(n_jobs=8)]: Done  34 tasks      | elapsed:    0.0s\n",
      "[Parallel(n_jobs=8)]: Done 184 tasks      | elapsed:    0.2s\n",
      "[Parallel(n_jobs=8)]: Done 434 tasks      | elapsed:    0.3s\n",
      "[Parallel(n_jobs=8)]: Done 784 tasks      | elapsed:    0.4s\n",
      "[Parallel(n_jobs=8)]: Done 1234 tasks      | elapsed:    0.6s\n",
      "[Parallel(n_jobs=8)]: Done 1784 tasks      | elapsed:    0.8s\n",
      "[Parallel(n_jobs=8)]: Done 2434 tasks      | elapsed:    1.1s\n",
      "[Parallel(n_jobs=8)]: Done 3184 tasks      | elapsed:    1.3s\n",
      "[Parallel(n_jobs=8)]: Done 4034 tasks      | elapsed:    1.7s\n",
      "[Parallel(n_jobs=8)]: Done 4984 tasks      | elapsed:    2.0s\n",
      "[Parallel(n_jobs=8)]: Done 6034 tasks      | elapsed:    2.4s\n",
      "[Parallel(n_jobs=8)]: Done 7184 tasks      | elapsed:    2.9s\n",
      "[Parallel(n_jobs=8)]: Done 8434 tasks      | elapsed:    3.4s\n",
      "[Parallel(n_jobs=8)]: Done 9784 tasks      | elapsed:    3.9s\n",
      "[Parallel(n_jobs=8)]: Done 10000 out of 10000 | elapsed:    4.0s finished\n",
      "[Parallel(n_jobs=-1)]: Done  34 tasks      | elapsed:    1.0s\n",
      "[Parallel(n_jobs=-1)]: Done 184 tasks      | elapsed:    4.9s\n",
      "[Parallel(n_jobs=-1)]: Done 434 tasks      | elapsed:   11.3s\n",
      "[Parallel(n_jobs=-1)]: Done 784 tasks      | elapsed:   20.4s\n",
      "[Parallel(n_jobs=-1)]: Done 1234 tasks      | elapsed:   32.2s\n",
      "[Parallel(n_jobs=-1)]: Done 1784 tasks      | elapsed:   46.6s\n",
      "[Parallel(n_jobs=-1)]: Done 2434 tasks      | elapsed:  1.1min\n",
      "[Parallel(n_jobs=-1)]: Done 3184 tasks      | elapsed:  1.4min\n",
      "[Parallel(n_jobs=-1)]: Done 4034 tasks      | elapsed:  1.8min\n",
      "[Parallel(n_jobs=-1)]: Done 4984 tasks      | elapsed:  2.2min\n",
      "[Parallel(n_jobs=-1)]: Done 6034 tasks      | elapsed:  2.6min\n",
      "[Parallel(n_jobs=-1)]: Done 7184 tasks      | elapsed:  3.1min\n",
      "[Parallel(n_jobs=-1)]: Done 8434 tasks      | elapsed:  3.7min\n",
      "[Parallel(n_jobs=-1)]: Done 9784 tasks      | elapsed:  4.3min\n",
      "[Parallel(n_jobs=-1)]: Done 10000 out of 10000 | elapsed:  4.4min finished\n",
      "[Parallel(n_jobs=8)]: Done  34 tasks      | elapsed:    0.0s\n",
      "[Parallel(n_jobs=8)]: Done 184 tasks      | elapsed:    0.1s\n",
      "[Parallel(n_jobs=8)]: Done 434 tasks      | elapsed:    0.2s\n",
      "[Parallel(n_jobs=8)]: Done 784 tasks      | elapsed:    0.3s\n",
      "[Parallel(n_jobs=8)]: Done 1234 tasks      | elapsed:    0.5s\n",
      "[Parallel(n_jobs=8)]: Done 1784 tasks      | elapsed:    0.7s\n",
      "[Parallel(n_jobs=8)]: Done 2434 tasks      | elapsed:    0.9s\n",
      "[Parallel(n_jobs=8)]: Done 3184 tasks      | elapsed:    1.2s\n",
      "[Parallel(n_jobs=8)]: Done 4034 tasks      | elapsed:    1.6s\n",
      "[Parallel(n_jobs=8)]: Done 4984 tasks      | elapsed:    1.9s\n",
      "[Parallel(n_jobs=8)]: Done 6034 tasks      | elapsed:    2.3s\n",
      "[Parallel(n_jobs=8)]: Done 7184 tasks      | elapsed:    2.8s\n",
      "[Parallel(n_jobs=8)]: Done 8434 tasks      | elapsed:    3.2s\n",
      "[Parallel(n_jobs=8)]: Done 9784 tasks      | elapsed:    3.8s\n",
      "[Parallel(n_jobs=8)]: Done 10000 out of 10000 | elapsed:    3.8s finished\n",
      "[Parallel(n_jobs=-1)]: Done  34 tasks      | elapsed:    0.9s\n",
      "[Parallel(n_jobs=-1)]: Done 184 tasks      | elapsed:    4.9s\n",
      "[Parallel(n_jobs=-1)]: Done 434 tasks      | elapsed:   11.4s\n",
      "[Parallel(n_jobs=-1)]: Done 784 tasks      | elapsed:   20.6s\n",
      "[Parallel(n_jobs=-1)]: Done 1234 tasks      | elapsed:   32.5s\n",
      "[Parallel(n_jobs=-1)]: Done 1784 tasks      | elapsed:   46.9s\n",
      "[Parallel(n_jobs=-1)]: Done 2434 tasks      | elapsed:  1.1min\n",
      "[Parallel(n_jobs=-1)]: Done 3184 tasks      | elapsed:  1.4min\n",
      "[Parallel(n_jobs=-1)]: Done 4034 tasks      | elapsed:  1.8min\n",
      "[Parallel(n_jobs=-1)]: Done 4984 tasks      | elapsed:  2.2min\n",
      "[Parallel(n_jobs=-1)]: Done 6034 tasks      | elapsed:  2.7min\n",
      "[Parallel(n_jobs=-1)]: Done 7184 tasks      | elapsed:  3.2min\n",
      "[Parallel(n_jobs=-1)]: Done 8434 tasks      | elapsed:  3.8min\n",
      "[Parallel(n_jobs=-1)]: Done 9784 tasks      | elapsed:  4.4min\n",
      "[Parallel(n_jobs=-1)]: Done 10000 out of 10000 | elapsed:  4.5min finished\n",
      "[Parallel(n_jobs=8)]: Done  34 tasks      | elapsed:    0.0s\n",
      "[Parallel(n_jobs=8)]: Done 184 tasks      | elapsed:    0.1s\n",
      "[Parallel(n_jobs=8)]: Done 434 tasks      | elapsed:    0.3s\n",
      "[Parallel(n_jobs=8)]: Done 784 tasks      | elapsed:    0.4s\n",
      "[Parallel(n_jobs=8)]: Done 1234 tasks      | elapsed:    0.7s\n",
      "[Parallel(n_jobs=8)]: Done 1784 tasks      | elapsed:    1.0s\n",
      "[Parallel(n_jobs=8)]: Done 2434 tasks      | elapsed:    1.3s\n",
      "[Parallel(n_jobs=8)]: Done 3184 tasks      | elapsed:    1.5s\n",
      "[Parallel(n_jobs=8)]: Done 4034 tasks      | elapsed:    1.9s\n",
      "[Parallel(n_jobs=8)]: Done 4984 tasks      | elapsed:    2.3s\n",
      "[Parallel(n_jobs=8)]: Done 6034 tasks      | elapsed:    2.7s\n",
      "[Parallel(n_jobs=8)]: Done 7184 tasks      | elapsed:    3.2s\n",
      "[Parallel(n_jobs=8)]: Done 8434 tasks      | elapsed:    3.7s\n",
      "[Parallel(n_jobs=8)]: Done 9784 tasks      | elapsed:    4.2s\n",
      "[Parallel(n_jobs=8)]: Done 10000 out of 10000 | elapsed:    4.3s finished\n",
      "[Parallel(n_jobs=-1)]: Done  34 tasks      | elapsed:    1.2s\n",
      "[Parallel(n_jobs=-1)]: Done 184 tasks      | elapsed:    6.1s\n",
      "[Parallel(n_jobs=-1)]: Done 434 tasks      | elapsed:   13.5s\n",
      "[Parallel(n_jobs=-1)]: Done 784 tasks      | elapsed:   25.0s\n",
      "[Parallel(n_jobs=-1)]: Done 1234 tasks      | elapsed:   38.0s\n",
      "[Parallel(n_jobs=-1)]: Done 1784 tasks      | elapsed:   54.1s\n",
      "[Parallel(n_jobs=-1)]: Done 2434 tasks      | elapsed:  1.2min\n",
      "[Parallel(n_jobs=-1)]: Done 3184 tasks      | elapsed:  1.6min\n",
      "[Parallel(n_jobs=-1)]: Done 4034 tasks      | elapsed:  2.0min\n",
      "[Parallel(n_jobs=-1)]: Done 4984 tasks      | elapsed:  2.5min\n",
      "[Parallel(n_jobs=-1)]: Done 6034 tasks      | elapsed:  2.9min\n",
      "[Parallel(n_jobs=-1)]: Done 7184 tasks      | elapsed:  3.5min\n",
      "[Parallel(n_jobs=-1)]: Done 8434 tasks      | elapsed:  4.0min\n",
      "[Parallel(n_jobs=-1)]: Done 9784 tasks      | elapsed:  4.8min\n",
      "[Parallel(n_jobs=-1)]: Done 10000 out of 10000 | elapsed:  4.9min finished\n",
      "[Parallel(n_jobs=8)]: Done  34 tasks      | elapsed:    0.0s\n",
      "[Parallel(n_jobs=8)]: Done 184 tasks      | elapsed:    0.1s\n",
      "[Parallel(n_jobs=8)]: Done 434 tasks      | elapsed:    0.2s\n",
      "[Parallel(n_jobs=8)]: Done 784 tasks      | elapsed:    0.4s\n",
      "[Parallel(n_jobs=8)]: Done 1234 tasks      | elapsed:    0.6s\n",
      "[Parallel(n_jobs=8)]: Done 1784 tasks      | elapsed:    0.8s\n",
      "[Parallel(n_jobs=8)]: Done 2434 tasks      | elapsed:    1.1s\n",
      "[Parallel(n_jobs=8)]: Done 3184 tasks      | elapsed:    1.4s\n",
      "[Parallel(n_jobs=8)]: Done 4034 tasks      | elapsed:    1.8s\n",
      "[Parallel(n_jobs=8)]: Done 4984 tasks      | elapsed:    2.2s\n",
      "[Parallel(n_jobs=8)]: Done 6034 tasks      | elapsed:    2.7s\n",
      "[Parallel(n_jobs=8)]: Done 7184 tasks      | elapsed:    3.2s\n",
      "[Parallel(n_jobs=8)]: Done 8434 tasks      | elapsed:    3.8s\n",
      "[Parallel(n_jobs=8)]: Done 9784 tasks      | elapsed:    4.4s\n",
      "[Parallel(n_jobs=8)]: Done 10000 out of 10000 | elapsed:    4.5s finished\n",
      "[Parallel(n_jobs=-1)]: Done  34 tasks      | elapsed:    1.2s\n",
      "[Parallel(n_jobs=-1)]: Done 184 tasks      | elapsed:    5.9s\n",
      "[Parallel(n_jobs=-1)]: Done 434 tasks      | elapsed:   13.5s\n",
      "[Parallel(n_jobs=-1)]: Done 784 tasks      | elapsed:   24.3s\n",
      "[Parallel(n_jobs=-1)]: Done 1234 tasks      | elapsed:   38.2s\n",
      "[Parallel(n_jobs=-1)]: Done 1784 tasks      | elapsed:   57.9s\n",
      "[Parallel(n_jobs=-1)]: Done 2434 tasks      | elapsed:  1.3min\n",
      "[Parallel(n_jobs=-1)]: Done 3184 tasks      | elapsed:  1.7min\n",
      "[Parallel(n_jobs=-1)]: Done 4034 tasks      | elapsed:  2.1min\n",
      "[Parallel(n_jobs=-1)]: Done 4984 tasks      | elapsed:  2.6min\n",
      "[Parallel(n_jobs=-1)]: Done 6034 tasks      | elapsed:  3.1min\n",
      "[Parallel(n_jobs=-1)]: Done 7184 tasks      | elapsed:  3.7min\n",
      "[Parallel(n_jobs=-1)]: Done 8434 tasks      | elapsed:  4.4min\n",
      "[Parallel(n_jobs=-1)]: Done 9784 tasks      | elapsed:  5.2min\n",
      "[Parallel(n_jobs=-1)]: Done 10000 out of 10000 | elapsed:  5.3min finished\n",
      "[Parallel(n_jobs=8)]: Done  34 tasks      | elapsed:    0.1s\n",
      "[Parallel(n_jobs=8)]: Done 184 tasks      | elapsed:    0.2s\n",
      "[Parallel(n_jobs=8)]: Done 434 tasks      | elapsed:    0.3s\n",
      "[Parallel(n_jobs=8)]: Done 784 tasks      | elapsed:    0.5s\n",
      "[Parallel(n_jobs=8)]: Done 1234 tasks      | elapsed:    0.7s\n",
      "[Parallel(n_jobs=8)]: Done 1784 tasks      | elapsed:    1.0s\n",
      "[Parallel(n_jobs=8)]: Done 2434 tasks      | elapsed:    1.3s\n",
      "[Parallel(n_jobs=8)]: Done 3184 tasks      | elapsed:    1.6s\n",
      "[Parallel(n_jobs=8)]: Done 4034 tasks      | elapsed:    2.0s\n",
      "[Parallel(n_jobs=8)]: Done 4984 tasks      | elapsed:    2.4s\n",
      "[Parallel(n_jobs=8)]: Done 6034 tasks      | elapsed:    2.9s\n",
      "[Parallel(n_jobs=8)]: Done 7184 tasks      | elapsed:    3.5s\n",
      "[Parallel(n_jobs=8)]: Done 8434 tasks      | elapsed:    4.1s\n",
      "[Parallel(n_jobs=8)]: Done 9784 tasks      | elapsed:    4.8s\n",
      "[Parallel(n_jobs=8)]: Done 10000 out of 10000 | elapsed:    4.9s finished\n",
      "[Parallel(n_jobs=-1)]: Done  34 tasks      | elapsed:    1.4s\n",
      "[Parallel(n_jobs=-1)]: Done 184 tasks      | elapsed:    7.0s\n",
      "[Parallel(n_jobs=-1)]: Done 434 tasks      | elapsed:   15.0s\n",
      "[Parallel(n_jobs=-1)]: Done 784 tasks      | elapsed:   25.8s\n",
      "[Parallel(n_jobs=-1)]: Done 1234 tasks      | elapsed:   40.2s\n",
      "[Parallel(n_jobs=-1)]: Done 1784 tasks      | elapsed:   57.4s\n",
      "[Parallel(n_jobs=-1)]: Done 2434 tasks      | elapsed:  1.3min\n",
      "[Parallel(n_jobs=-1)]: Done 3184 tasks      | elapsed:  1.7min\n",
      "[Parallel(n_jobs=-1)]: Done 4034 tasks      | elapsed:  2.0min\n",
      "[Parallel(n_jobs=-1)]: Done 4984 tasks      | elapsed:  2.5min\n",
      "[Parallel(n_jobs=-1)]: Done 6034 tasks      | elapsed:  3.0min\n",
      "[Parallel(n_jobs=-1)]: Done 7184 tasks      | elapsed:  3.5min\n",
      "[Parallel(n_jobs=-1)]: Done 8434 tasks      | elapsed:  4.2min\n",
      "[Parallel(n_jobs=-1)]: Done 9784 tasks      | elapsed:  4.9min\n",
      "[Parallel(n_jobs=-1)]: Done 10000 out of 10000 | elapsed:  5.0min finished\n",
      "[Parallel(n_jobs=8)]: Done  34 tasks      | elapsed:    0.0s\n",
      "[Parallel(n_jobs=8)]: Done 184 tasks      | elapsed:    0.2s\n",
      "[Parallel(n_jobs=8)]: Done 434 tasks      | elapsed:    0.3s\n",
      "[Parallel(n_jobs=8)]: Done 784 tasks      | elapsed:    0.5s\n",
      "[Parallel(n_jobs=8)]: Done 1234 tasks      | elapsed:    0.7s\n",
      "[Parallel(n_jobs=8)]: Done 1784 tasks      | elapsed:    0.9s\n",
      "[Parallel(n_jobs=8)]: Done 2434 tasks      | elapsed:    1.2s\n",
      "[Parallel(n_jobs=8)]: Done 3184 tasks      | elapsed:    1.5s\n",
      "[Parallel(n_jobs=8)]: Done 4034 tasks      | elapsed:    1.9s\n",
      "[Parallel(n_jobs=8)]: Done 4984 tasks      | elapsed:    2.3s\n",
      "[Parallel(n_jobs=8)]: Done 6034 tasks      | elapsed:    2.8s\n",
      "[Parallel(n_jobs=8)]: Done 7184 tasks      | elapsed:    3.3s\n",
      "[Parallel(n_jobs=8)]: Done 8434 tasks      | elapsed:    3.9s\n",
      "[Parallel(n_jobs=8)]: Done 9784 tasks      | elapsed:    4.5s\n",
      "[Parallel(n_jobs=8)]: Done 10000 out of 10000 | elapsed:    4.6s finished\n",
      "[Parallel(n_jobs=-1)]: Done  34 tasks      | elapsed:    1.2s\n",
      "[Parallel(n_jobs=-1)]: Done 184 tasks      | elapsed:    5.9s\n",
      "[Parallel(n_jobs=-1)]: Done 434 tasks      | elapsed:   13.5s\n",
      "[Parallel(n_jobs=-1)]: Done 784 tasks      | elapsed:   25.7s\n",
      "[Parallel(n_jobs=-1)]: Done 1234 tasks      | elapsed:   40.3s\n",
      "[Parallel(n_jobs=-1)]: Done 1784 tasks      | elapsed:   59.1s\n",
      "[Parallel(n_jobs=-1)]: Done 2434 tasks      | elapsed:  1.3min\n",
      "[Parallel(n_jobs=-1)]: Done 3184 tasks      | elapsed:  1.7min\n",
      "[Parallel(n_jobs=-1)]: Done 4034 tasks      | elapsed:  2.2min\n",
      "[Parallel(n_jobs=-1)]: Done 4984 tasks      | elapsed:  2.7min\n",
      "[Parallel(n_jobs=-1)]: Done 6034 tasks      | elapsed:  3.1min\n",
      "[Parallel(n_jobs=-1)]: Done 7184 tasks      | elapsed:  3.7min\n",
      "[Parallel(n_jobs=-1)]: Done 8434 tasks      | elapsed:  4.3min\n",
      "[Parallel(n_jobs=-1)]: Done 9784 tasks      | elapsed:  4.9min\n",
      "[Parallel(n_jobs=-1)]: Done 10000 out of 10000 | elapsed:  5.0min finished\n",
      "[Parallel(n_jobs=8)]: Done  34 tasks      | elapsed:    0.0s\n",
      "[Parallel(n_jobs=8)]: Done 184 tasks      | elapsed:    0.2s\n",
      "[Parallel(n_jobs=8)]: Done 434 tasks      | elapsed:    0.3s\n",
      "[Parallel(n_jobs=8)]: Done 784 tasks      | elapsed:    0.4s\n",
      "[Parallel(n_jobs=8)]: Done 1234 tasks      | elapsed:    0.6s\n",
      "[Parallel(n_jobs=8)]: Done 1784 tasks      | elapsed:    0.8s\n",
      "[Parallel(n_jobs=8)]: Done 2434 tasks      | elapsed:    1.1s\n",
      "[Parallel(n_jobs=8)]: Done 3184 tasks      | elapsed:    1.4s\n",
      "[Parallel(n_jobs=8)]: Done 4034 tasks      | elapsed:    1.7s\n",
      "[Parallel(n_jobs=8)]: Done 4984 tasks      | elapsed:    2.1s\n",
      "[Parallel(n_jobs=8)]: Done 6034 tasks      | elapsed:    2.5s\n",
      "[Parallel(n_jobs=8)]: Done 7184 tasks      | elapsed:    2.9s\n",
      "[Parallel(n_jobs=8)]: Done 8434 tasks      | elapsed:    3.4s\n",
      "[Parallel(n_jobs=8)]: Done 9784 tasks      | elapsed:    3.9s\n",
      "[Parallel(n_jobs=8)]: Done 10000 out of 10000 | elapsed:    4.0s finished\n",
      "[Parallel(n_jobs=-1)]: Done  34 tasks      | elapsed:    1.0s\n",
      "[Parallel(n_jobs=-1)]: Done 184 tasks      | elapsed:    4.8s\n",
      "[Parallel(n_jobs=-1)]: Done 434 tasks      | elapsed:   11.5s\n",
      "[Parallel(n_jobs=-1)]: Done 784 tasks      | elapsed:   21.7s\n",
      "[Parallel(n_jobs=-1)]: Done 1234 tasks      | elapsed:   33.7s\n",
      "[Parallel(n_jobs=-1)]: Done 1784 tasks      | elapsed:   48.1s\n",
      "[Parallel(n_jobs=-1)]: Done 2434 tasks      | elapsed:  1.1min\n",
      "[Parallel(n_jobs=-1)]: Done 3184 tasks      | elapsed:  1.4min\n",
      "[Parallel(n_jobs=-1)]: Done 4034 tasks      | elapsed:  1.8min\n",
      "[Parallel(n_jobs=-1)]: Done 4984 tasks      | elapsed:  2.3min\n",
      "[Parallel(n_jobs=-1)]: Done 6034 tasks      | elapsed:  2.7min\n",
      "[Parallel(n_jobs=-1)]: Done 7184 tasks      | elapsed:  3.4min\n",
      "[Parallel(n_jobs=-1)]: Done 8434 tasks      | elapsed:  4.0min\n",
      "[Parallel(n_jobs=-1)]: Done 9784 tasks      | elapsed:  4.8min\n",
      "[Parallel(n_jobs=-1)]: Done 10000 out of 10000 | elapsed:  4.9min finished\n",
      "[Parallel(n_jobs=8)]: Done  34 tasks      | elapsed:    0.0s\n",
      "[Parallel(n_jobs=8)]: Done 184 tasks      | elapsed:    0.2s\n",
      "[Parallel(n_jobs=8)]: Done 434 tasks      | elapsed:    0.3s\n",
      "[Parallel(n_jobs=8)]: Done 784 tasks      | elapsed:    0.4s\n",
      "[Parallel(n_jobs=8)]: Done 1234 tasks      | elapsed:    0.6s\n",
      "[Parallel(n_jobs=8)]: Done 1784 tasks      | elapsed:    0.9s\n",
      "[Parallel(n_jobs=8)]: Done 2434 tasks      | elapsed:    1.3s\n",
      "[Parallel(n_jobs=8)]: Done 3184 tasks      | elapsed:    1.6s\n",
      "[Parallel(n_jobs=8)]: Done 4034 tasks      | elapsed:    2.0s\n",
      "[Parallel(n_jobs=8)]: Done 4984 tasks      | elapsed:    2.4s\n",
      "[Parallel(n_jobs=8)]: Done 6034 tasks      | elapsed:    2.8s\n",
      "[Parallel(n_jobs=8)]: Done 7184 tasks      | elapsed:    3.3s\n",
      "[Parallel(n_jobs=8)]: Done 8434 tasks      | elapsed:    3.8s\n",
      "[Parallel(n_jobs=8)]: Done 9784 tasks      | elapsed:    4.3s\n",
      "[Parallel(n_jobs=8)]: Done 10000 out of 10000 | elapsed:    4.4s finished\n",
      "[Parallel(n_jobs=-1)]: Done  34 tasks      | elapsed:    1.4s\n",
      "[Parallel(n_jobs=-1)]: Done 184 tasks      | elapsed:    6.1s\n",
      "[Parallel(n_jobs=-1)]: Done 434 tasks      | elapsed:   14.0s\n",
      "[Parallel(n_jobs=-1)]: Done 784 tasks      | elapsed:   24.9s\n",
      "[Parallel(n_jobs=-1)]: Done 1234 tasks      | elapsed:   40.6s\n",
      "[Parallel(n_jobs=-1)]: Done 1784 tasks      | elapsed:   59.7s\n",
      "[Parallel(n_jobs=-1)]: Done 2434 tasks      | elapsed:  1.4min\n",
      "[Parallel(n_jobs=-1)]: Done 3184 tasks      | elapsed:  1.8min\n",
      "[Parallel(n_jobs=-1)]: Done 4034 tasks      | elapsed:  2.2min\n",
      "[Parallel(n_jobs=-1)]: Done 4984 tasks      | elapsed:  2.6min\n",
      "[Parallel(n_jobs=-1)]: Done 6034 tasks      | elapsed:  3.2min\n",
      "[Parallel(n_jobs=-1)]: Done 7184 tasks      | elapsed:  3.7min\n",
      "[Parallel(n_jobs=-1)]: Done 8434 tasks      | elapsed:  4.3min\n",
      "[Parallel(n_jobs=-1)]: Done 9784 tasks      | elapsed:  4.9min\n",
      "[Parallel(n_jobs=-1)]: Done 10000 out of 10000 | elapsed:  5.0min finished\n",
      "[Parallel(n_jobs=8)]: Done  34 tasks      | elapsed:    0.0s\n",
      "[Parallel(n_jobs=8)]: Done 184 tasks      | elapsed:    0.1s\n",
      "[Parallel(n_jobs=8)]: Done 434 tasks      | elapsed:    0.2s\n",
      "[Parallel(n_jobs=8)]: Done 784 tasks      | elapsed:    0.4s\n",
      "[Parallel(n_jobs=8)]: Done 1234 tasks      | elapsed:    0.6s\n",
      "[Parallel(n_jobs=8)]: Done 1784 tasks      | elapsed:    0.9s\n",
      "[Parallel(n_jobs=8)]: Done 2434 tasks      | elapsed:    1.2s\n",
      "[Parallel(n_jobs=8)]: Done 3184 tasks      | elapsed:    1.5s\n",
      "[Parallel(n_jobs=8)]: Done 4034 tasks      | elapsed:    1.9s\n",
      "[Parallel(n_jobs=8)]: Done 4984 tasks      | elapsed:    2.3s\n",
      "[Parallel(n_jobs=8)]: Done 6034 tasks      | elapsed:    2.7s\n",
      "[Parallel(n_jobs=8)]: Done 7184 tasks      | elapsed:    3.2s\n",
      "[Parallel(n_jobs=8)]: Done 8434 tasks      | elapsed:    3.7s\n",
      "[Parallel(n_jobs=8)]: Done 9784 tasks      | elapsed:    4.2s\n",
      "[Parallel(n_jobs=8)]: Done 10000 out of 10000 | elapsed:    4.3s finished\n"
     ]
    }
   ],
   "source": [
    "optim = []\n",
    "pred_prob = []\n",
    "for i in log_progress([32, 64, 128, 256, 512, 16, 8, 100, 50, 33]):\n",
    "    Xtr,Xval,Ytr,Yval = train_test_split(X_new,Y,test_size=0.2,random_state=i)\n",
    "    Xtr = PolynomialFeatures(2).fit_transform(Xtr)\n",
    "    Xval = PolynomialFeatures(2).fit_transform(Xval)\n",
    "    optim.append(Yval)\n",
    "    model.fit(Xtr, Ytr)\n",
    "    pred_prob.append(model.predict_proba(Xval))\n",
    "    "
   ]
  },
  {
   "cell_type": "code",
   "execution_count": 95,
   "metadata": {
    "collapsed": false
   },
   "outputs": [
    {
     "name": "stderr",
     "output_type": "stream",
     "text": [
      "/home/axcel/anaconda3/lib/python3.5/site-packages/sklearn/metrics/classification.py:1113: UndefinedMetricWarning: F-score is ill-defined and being set to 0.0 due to no predicted samples.\n",
      "  'precision', 'predicted', average, warn_for)\n"
     ]
    },
    {
     "name": "stdout",
     "output_type": "stream",
     "text": [
      "0.571808864454\n",
      "0.99\n"
     ]
    }
   ],
   "source": [
    "max_score = 0\n",
    "best_eps = 0\n",
    "for k in range(100):\n",
    "    eps = k * 0.01\n",
    "    predict_eps = []\n",
    "    for elem in pred_prob:\n",
    "        temp_pred = []\n",
    "        for row in elem:\n",
    "            if row[1] > eps:\n",
    "                temp_pred.append(1)\n",
    "            else:\n",
    "                temp_pred.append(0)\n",
    "        predict_eps.append(temp_pred)\n",
    "    f1_score_test = []\n",
    "    for i  in range(len(predict_eps)):\n",
    "        f1_score_test.append(f1_score(optim[i], predict_eps[i]))\n",
    "    if np.array(f1_score_test).mean() > max_score:\n",
    "        max_score = np.array(f1_score_test).mean()\n",
    "        best_eps = eps\n",
    "print(max_score)\n",
    "print(eps)"
   ]
  },
  {
   "cell_type": "code",
   "execution_count": 79,
   "metadata": {
    "collapsed": false
   },
   "outputs": [
    {
     "data": {
      "text/plain": [
       "0"
      ]
     },
     "execution_count": 79,
     "metadata": {},
     "output_type": "execute_result"
    }
   ],
   "source": [
    "model.predict(Xval)[0]"
   ]
  },
  {
   "cell_type": "code",
   "execution_count": 30,
   "metadata": {
    "collapsed": false,
    "scrolled": true
   },
   "outputs": [
    {
     "name": "stderr",
     "output_type": "stream",
     "text": [
      "[Parallel(n_jobs=8)]: Done  34 tasks      | elapsed:    0.0s\n",
      "[Parallel(n_jobs=8)]: Done 184 tasks      | elapsed:    0.1s\n",
      "[Parallel(n_jobs=8)]: Done 434 tasks      | elapsed:    0.2s\n",
      "[Parallel(n_jobs=8)]: Done 784 tasks      | elapsed:    0.4s\n",
      "[Parallel(n_jobs=8)]: Done 1234 tasks      | elapsed:    0.6s\n",
      "[Parallel(n_jobs=8)]: Done 1784 tasks      | elapsed:    0.8s\n",
      "[Parallel(n_jobs=8)]: Done 2434 tasks      | elapsed:    1.1s\n",
      "[Parallel(n_jobs=8)]: Done 3184 tasks      | elapsed:    1.5s\n",
      "[Parallel(n_jobs=8)]: Done 4034 tasks      | elapsed:    1.9s\n",
      "[Parallel(n_jobs=8)]: Done 4984 tasks      | elapsed:    2.3s\n",
      "[Parallel(n_jobs=8)]: Done 6034 tasks      | elapsed:    2.8s\n",
      "[Parallel(n_jobs=8)]: Done 7184 tasks      | elapsed:    3.3s\n",
      "[Parallel(n_jobs=8)]: Done 8434 tasks      | elapsed:    3.9s\n",
      "[Parallel(n_jobs=8)]: Done 9784 tasks      | elapsed:    4.5s\n",
      "[Parallel(n_jobs=8)]: Done 10000 out of 10000 | elapsed:    4.6s finished\n",
      "/home/axcel/anaconda3/lib/python3.5/site-packages/sklearn/metrics/classification.py:1113: UndefinedMetricWarning: F-score is ill-defined and being set to 0.0 due to no predicted samples.\n",
      "  'precision', 'predicted', average, warn_for)\n"
     ]
    }
   ],
   "source": [
    "pred_prob = model.predict_proba(Xval)\n",
    "\n",
    "\n",
    "f1_score_temp = []\n",
    "\n",
    "for i in range(10000):\n",
    "    ans = []\n",
    "    eps = i * 0.0001\n",
    "    for elem in pred_prob:\n",
    "        if elem[1] > eps:\n",
    "            ans.append(1)\n",
    "        else:\n",
    "            ans.append(0)\n",
    "    f1_score_temp.append(f1_score(Yval, ans))\n"
   ]
  },
  {
   "cell_type": "code",
   "execution_count": 31,
   "metadata": {
    "collapsed": false
   },
   "outputs": [
    {
     "name": "stdout",
     "output_type": "stream",
     "text": [
      "0.613545816733\n",
      "4033\n"
     ]
    }
   ],
   "source": [
    "maxnum = 0\n",
    "pos = 0\n",
    "for i in range(len(f1_score_temp)):\n",
    "    if maxnum < f1_score_temp[i]:\n",
    "        maxnum = f1_score_temp[i]\n",
    "        pos = i\n",
    "print(maxnum)\n",
    "print(pos)"
   ]
  },
  {
   "cell_type": "code",
   "execution_count": 33,
   "metadata": {
    "collapsed": false
   },
   "outputs": [
    {
     "name": "stderr",
     "output_type": "stream",
     "text": [
      "[Parallel(n_jobs=8)]: Done  34 tasks      | elapsed:    0.0s\n",
      "[Parallel(n_jobs=8)]: Done 184 tasks      | elapsed:    0.1s\n",
      "[Parallel(n_jobs=8)]: Done 434 tasks      | elapsed:    0.3s\n",
      "[Parallel(n_jobs=8)]: Done 784 tasks      | elapsed:    0.5s\n",
      "[Parallel(n_jobs=8)]: Done 1234 tasks      | elapsed:    0.8s\n",
      "[Parallel(n_jobs=8)]: Done 1784 tasks      | elapsed:    1.1s\n",
      "[Parallel(n_jobs=8)]: Done 2434 tasks      | elapsed:    1.5s\n",
      "[Parallel(n_jobs=8)]: Done 3184 tasks      | elapsed:    1.9s\n",
      "[Parallel(n_jobs=8)]: Done 4034 tasks      | elapsed:    2.4s\n",
      "[Parallel(n_jobs=8)]: Done 4984 tasks      | elapsed:    3.0s\n",
      "[Parallel(n_jobs=8)]: Done 6034 tasks      | elapsed:    3.5s\n",
      "[Parallel(n_jobs=8)]: Done 7184 tasks      | elapsed:    4.2s\n",
      "[Parallel(n_jobs=8)]: Done 8434 tasks      | elapsed:    4.9s\n",
      "[Parallel(n_jobs=8)]: Done 9784 tasks      | elapsed:    5.6s\n",
      "[Parallel(n_jobs=8)]: Done 10000 out of 10000 | elapsed:    5.7s finished\n"
     ]
    }
   ],
   "source": [
    "ans = []\n",
    "pred_prob = model.predict_proba(PolynomialFeatures(3).fit_transform(X_test))\n",
    "\n",
    "for elem in pred_prob:\n",
    "    if elem[1] > 0.4:\n",
    "        ans.append(1)\n",
    "    else:\n",
    "        ans.append(0)\n"
   ]
  },
  {
   "cell_type": "code",
   "execution_count": 142,
   "metadata": {
    "collapsed": false
   },
   "outputs": [
    {
     "data": {
      "text/plain": [
       "0.60000000000000009"
      ]
     },
     "execution_count": 142,
     "metadata": {},
     "output_type": "execute_result"
    }
   ],
   "source": [
    "f1_score(Yval, ans)"
   ]
  },
  {
   "cell_type": "code",
   "execution_count": 105,
   "metadata": {
    "button": false,
    "collapsed": false,
    "deletable": true,
    "new_sheet": false,
    "run_control": {
     "read_only": false
    }
   },
   "outputs": [
    {
     "name": "stderr",
     "output_type": "stream",
     "text": [
      "[Parallel(n_jobs=8)]: Done  34 tasks      | elapsed:    0.0s\n",
      "[Parallel(n_jobs=8)]: Done 184 tasks      | elapsed:    0.1s\n",
      "[Parallel(n_jobs=8)]: Done 434 tasks      | elapsed:    0.1s\n",
      "[Parallel(n_jobs=8)]: Done 784 tasks      | elapsed:    0.2s\n",
      "[Parallel(n_jobs=8)]: Done 1234 tasks      | elapsed:    0.4s\n",
      "[Parallel(n_jobs=8)]: Done 1784 tasks      | elapsed:    0.5s\n",
      "[Parallel(n_jobs=8)]: Done 2434 tasks      | elapsed:    0.7s\n",
      "[Parallel(n_jobs=8)]: Done 3184 tasks      | elapsed:    0.9s\n",
      "[Parallel(n_jobs=8)]: Done 4034 tasks      | elapsed:    1.1s\n",
      "[Parallel(n_jobs=8)]: Done 4984 tasks      | elapsed:    1.3s\n",
      "[Parallel(n_jobs=8)]: Done 6034 tasks      | elapsed:    1.6s\n",
      "[Parallel(n_jobs=8)]: Done 7184 tasks      | elapsed:    1.9s\n",
      "[Parallel(n_jobs=8)]: Done 8434 tasks      | elapsed:    2.2s\n"
     ]
    },
    {
     "name": "stdout",
     "output_type": "stream",
     "text": [
      "0.482352941176\n"
     ]
    },
    {
     "name": "stderr",
     "output_type": "stream",
     "text": [
      "[Parallel(n_jobs=8)]: Done 9784 tasks      | elapsed:    2.6s\n",
      "[Parallel(n_jobs=8)]: Done 10000 out of 10000 | elapsed:    2.6s finished\n"
     ]
    }
   ],
   "source": [
    "#Оценим метрику на validation\n",
    "print(f1_score(Yval, model.predict(Xval)))"
   ]
  },
  {
   "cell_type": "code",
   "execution_count": 39,
   "metadata": {
    "collapsed": false
   },
   "outputs": [],
   "source": [
    "ind = X_test[0].tolist()"
   ]
  },
  {
   "cell_type": "code",
   "execution_count": 41,
   "metadata": {
    "button": false,
    "collapsed": false,
    "deletable": true,
    "new_sheet": false,
    "run_control": {
     "read_only": false
    }
   },
   "outputs": [],
   "source": [
    "#Предскажем результат и запишем его в .csv\n",
    "\n",
    "def create_submission(X, name):\n",
    "    np.savetxt('%s.csv'%name, X, delimiter=',', fmt=\"%d\", header='user_id,passed', comments='')\n",
    "    \n",
    "#ans = model.predict(PolynomialFeatures(3).fit_transform(X_test))\n",
    "#ans = model.predict(X_test)\n",
    "\n",
    "result = np.concatenate((np.asarray(ind, dtype=int).reshape(-1, 1), np.asarray(ans, dtype=int).reshape(-1, 1)), axis=1)\n",
    "create_submission(result, '0.61_lead_polfeat3_randforest')"
   ]
  },
  {
   "cell_type": "code",
   "execution_count": 11,
   "metadata": {
    "collapsed": false
   },
   "outputs": [
    {
     "name": "stderr",
     "output_type": "stream",
     "text": [
      "GP Progress:  17%|█▋        | 20/120 [00:00<10:42,  6.43s/pipeline]"
     ]
    },
    {
     "name": "stdout",
     "output_type": "stream",
     "text": [
      "Generation 1 - Current Pareto front scores:\n",
      "1\t0.46260557993158863\tXGBClassifier(input_matrix, 30, 8, 37.0, 0.70999999999999996)\n",
      "2\t0.474686629078247\tXGBClassifier(GaussianNB(input_matrix), 8, 19, 0.5, 40.0)\n",
      "\n"
     ]
    },
    {
     "name": "stderr",
     "output_type": "stream",
     "text": [
      "GP Progress:  31%|███       | 37/120 [00:00<14:20, 10.36s/pipeline]"
     ]
    },
    {
     "name": "stdout",
     "output_type": "stream",
     "text": [
      "Generation 2 - Current Pareto front scores:\n",
      "1\t0.46260557993158863\tXGBClassifier(input_matrix, 30, 8, 37.0, 0.70999999999999996)\n",
      "2\t0.474686629078247\tXGBClassifier(GaussianNB(input_matrix), 8, 19, 0.5, 40.0)\n",
      "\n"
     ]
    },
    {
     "name": "stderr",
     "output_type": "stream",
     "text": [
      "GP Progress:  48%|████▊     | 58/120 [00:00<02:58,  2.88s/pipeline]"
     ]
    },
    {
     "name": "stdout",
     "output_type": "stream",
     "text": [
      "Generation 3 - Current Pareto front scores:\n",
      "1\t0.46824815553962446\tXGBClassifier(input_matrix, 8, 8, 0.5, 40.0)\n",
      "2\t0.4816644856539252\tXGBClassifier(XGBClassifier(input_matrix, 37, 43, 0.10000000000000001, 0.87), 13, 28, 0.17999999999999999, 0.60999999999999999)\n",
      "\n"
     ]
    },
    {
     "name": "stderr",
     "output_type": "stream",
     "text": [
      "GP Progress:  65%|██████▌   | 78/120 [00:00<02:01,  2.90s/pipeline]"
     ]
    },
    {
     "name": "stdout",
     "output_type": "stream",
     "text": [
      "Generation 4 - Current Pareto front scores:\n",
      "1\t0.4833657289341599\tXGBClassifier(input_matrix, 13, 28, 0.17999999999999999, 0.60999999999999999)\n",
      "\n"
     ]
    },
    {
     "name": "stderr",
     "output_type": "stream",
     "text": [
      "GP Progress:  82%|████████▏ | 98/120 [00:00<01:33,  4.26s/pipeline]"
     ]
    },
    {
     "name": "stdout",
     "output_type": "stream",
     "text": [
      "Generation 5 - Current Pareto front scores:\n",
      "1\t0.4833657289341599\tXGBClassifier(input_matrix, 13, 28, 0.17999999999999999, 0.60999999999999999)\n",
      "\n"
     ]
    },
    {
     "name": "stderr",
     "output_type": "stream",
     "text": []
    },
    {
     "name": "stdout",
     "output_type": "stream",
     "text": [
      "0.501992031873\n"
     ]
    }
   ],
   "source": [
    "from tpot import TPOTClassifier\n",
    "from sklearn.cross_validation import train_test_split\n",
    "\n",
    "\n",
    "X_train, X_test, y_train, y_test = train_test_split(X_new[:10 ** 4], Y[:10**4],\n",
    "                                                 test_size=0.20)\n",
    "\n",
    "tpot = TPOTClassifier(generations=5, population_size=20, verbosity=3, scoring='f1')\n",
    "tpot.fit(X_train, y_train)\n",
    "print(tpot.score(X_test, y_test))\n",
    "tpot.export('tpot_goto_pipeline.py')"
   ]
  },
  {
   "cell_type": "code",
   "execution_count": 362,
   "metadata": {
    "collapsed": true
   },
   "outputs": [],
   "source": [
    "def iterate_minibatches(inputs, targets, batchsize, shuffle=False):\n",
    "    assert len(inputs) == len(targets)\n",
    "    if shuffle:\n",
    "        indices = np.arange(len(inputs))\n",
    "        np.random.shuffle(indices)\n",
    "    for start_idx in range(0, len(inputs) - batchsize + 1, batchsize):\n",
    "        if shuffle:\n",
    "            excerpt = indices[start_idx:start_idx + batchsize]\n",
    "        else:\n",
    "            excerpt = slice(start_idx, start_idx + batchsize)\n",
    "        yield inputs[excerpt], targets[excerpt]\n",
    "        \n",
    "def multilabel_objective(predictions, targets):\n",
    "    epsilon = np.float32(1.0e-6)\n",
    "    one = np.float32(1.0)\n",
    "    pred = T.clip(predictions, epsilon, one - epsilon)\n",
    "    return -T.sum(targets * T.log(pred) + (one - targets) * T.log(one - pred), axis=1)\n",
    "\n",
    "def fmeasure(prediction, target, alpha=0.5):\n",
    "    \"\"\"Return the approximated f-measure loss between the `target` and\n",
    "    the `prediction`. This is an overall loss, not a sample-wise one,\n",
    "    that is, the loss is computed for all the samples at once.\n",
    "    Jansche, Martin. \"Maximum expected F-measure training of logistic\n",
    "    regression models.\" Proceedings of the conference on Human Language\n",
    "    Technology and Empirical Methods in Natural Language Processing.\n",
    "    Association for Computational Linguistics, 2005.\n",
    "    Parameters\n",
    "    ----------\n",
    "    target : Theano variable\n",
    "        An array of arbitrary shape representing representing the targets.\n",
    "    prediction : Theano variable\n",
    "        An array of arbitrary shape representing representing the predictions.\n",
    "    Returns\n",
    "    -------\n",
    "    res : Theano variable\n",
    "        An array of the same columns as ``target`` and ``prediction``\n",
    "        representing the overall f-measure loss.\"\"\"\n",
    "    n_pos = target.sum(axis=0)\n",
    "    m_pos = prediction.sum(axis=0)\n",
    "    true_positives_approx = target*prediction\n",
    "    A = true_positives_approx.sum(axis=0)\n",
    "    return A/(alpha*n_pos+(1-alpha)*m_pos)"
   ]
  },
  {
   "cell_type": "code",
   "execution_count": 292,
   "metadata": {
    "collapsed": false
   },
   "outputs": [],
   "source": [
    "import lasagne\n",
    "import theano\n",
    "import theano.tensor as T\n",
    "\n",
    "input_X = T.matrix(\"X\")\n",
    "\n",
    "#input dimention (None means \"Arbitrary\")\n",
    "input_shape = [None, 57]\n",
    "\n",
    "target_y = T.vector(\"target Y integer\",dtype='int64')"
   ]
  },
  {
   "cell_type": "code",
   "execution_count": 374,
   "metadata": {
    "collapsed": false
   },
   "outputs": [
    {
     "name": "stdout",
     "output_type": "stream",
     "text": [
      "[hidden_dense_layer - 1.W, hidden_dense_layer - 1.b, W, b, output.W, output.b]\n"
     ]
    }
   ],
   "source": [
    "#Input layer (auxilary)\n",
    "input_layer = lasagne.layers.InputLayer(shape = input_shape, input_var=input_X)\n",
    "\n",
    "#fully connected layer, that takes input layer and applies 50 neurons to it.\n",
    "# nonlinearity here is sigmoid as in logistic regression\n",
    "# you can give a name to each layer (optional)\n",
    "\n",
    "\n",
    "dense_1 = lasagne.layers.DenseLayer(input_layer, num_units=100,\n",
    "                                   nonlinearity = lasagne.nonlinearities.rectify,\n",
    "                                   name = \"hidden_dense_layer - 1\", W=lasagne.init.GlorotUniform())\n",
    "\n",
    "dense_2 = lasagne.layers.DenseLayer(dense_1, num_units=16, nonlinearity=lasagne.nonlinearities.rectify,\n",
    "                                   W=lasagne.init.GlorotUniform())\n",
    "\n",
    "\n",
    "#fully connected output layer that takes dense_1 as input and has 10 neurons (1 for each digit)\n",
    "#We use softmax nonlinearity to make probabilities add up to 1\n",
    "dense_output = lasagne.layers.DenseLayer(dense_2, num_units = 1 ,\n",
    "                                        nonlinearity = lasagne.nonlinearities.sigmoid,\n",
    "                                        name='output', W=lasagne.init.Normal())\n",
    "\n",
    "\n",
    "#network prediction (theano-transformation)\n",
    "y_predicted = lasagne.layers.get_output(dense_output)\n",
    "\n",
    "#all network weights (shared variables)\n",
    "all_weights = lasagne.layers.get_all_params(dense_output, trainable=True)\n",
    "\n",
    "print(all_weights)\n",
    "\n",
    "#Mean categorical crossentropy as a loss function - similar to logistic loss but for multiclass targets\n",
    "loss = fmeasure(y_predicted, target_y).mean()\n",
    "\n",
    "#prediction accuracy (WITH dropout)\n",
    "\n",
    "accuracy = fmeasure(y_predicted, target_y).mean()\n",
    "\n",
    "#This function computes gradient AND composes weight updates just like you did earlier\n",
    "updates_sgd = lasagne.updates.adam(loss, all_weights)\n",
    "\n",
    "#function that computes loss and updates weights\n",
    "train_fun = theano.function([input_X,target_y],[loss,accuracy], updates= updates_sgd)\n",
    "\n",
    "\n",
    "#deterministic prediciton (without dropout)\n",
    "y_predicted_det = lasagne.layers.get_output(dense_output, deterministic=True)\n",
    "\n",
    "#prediction accuracy (without dropout)\n",
    "accuracy_det = lasagne.objectives.categorical_accuracy(y_predicted_det,target_y).mean()\n",
    "\n",
    "#function that just computes accuracy without dropout/noize -- for evaluation purposes\n",
    "accuracy_fun = theano.function([input_X,target_y],accuracy_det)"
   ]
  },
  {
   "cell_type": "code",
   "execution_count": 375,
   "metadata": {
    "collapsed": false
   },
   "outputs": [
    {
     "name": "stdout",
     "output_type": "stream",
     "text": [
      "Epoch 1 of 5 took 10.449s\n",
      "  training loss (in-iteration):\t\t0.040752\n",
      "  train accuracy:\t\t4.08 %\n",
      "  validation accuracy:\t\t96.48 %\n",
      "Epoch 2 of 5 took 10.031s\n",
      "  training loss (in-iteration):\t\t0.040752\n",
      "  train accuracy:\t\t4.08 %\n",
      "  validation accuracy:\t\t96.48 %\n",
      "Epoch 3 of 5 took 10.428s\n",
      "  training loss (in-iteration):\t\t0.040752\n",
      "  train accuracy:\t\t4.08 %\n",
      "  validation accuracy:\t\t96.48 %\n",
      "Epoch 4 of 5 took 10.007s\n",
      "  training loss (in-iteration):\t\t0.040752\n",
      "  train accuracy:\t\t4.08 %\n",
      "  validation accuracy:\t\t96.48 %\n",
      "Epoch 5 of 5 took 9.955s\n",
      "  training loss (in-iteration):\t\t0.040752\n",
      "  train accuracy:\t\t4.08 %\n",
      "  validation accuracy:\t\t96.48 %\n"
     ]
    }
   ],
   "source": [
    "import time\n",
    "\n",
    "num_epochs = 5 #amount of passes through the data\n",
    "            \n",
    "batch_size = 1 #number of samples processed at each function call\n",
    "\n",
    "for epoch in range(num_epochs):\n",
    "    # In each epoch, we do a full pass over the training data:\n",
    "    train_err = 0\n",
    "    train_acc = 0\n",
    "    train_batches = 0\n",
    "    start_time = time.time()\n",
    "    for batch in iterate_minibatches(Xtr, Ytr,batch_size):\n",
    "        inputs, targets = batch\n",
    "        train_err_batch, train_acc_batch= train_fun(inputs, targets)\n",
    "        train_err += train_err_batch\n",
    "        train_acc += train_acc_batch\n",
    "        train_batches += 1\n",
    "\n",
    "    # And a full pass over the validation data:\n",
    "    val_acc = 0\n",
    "    val_batches = 0\n",
    "    for batch in iterate_minibatches(Xval, Yval, batch_size):\n",
    "        inputs, targets = batch\n",
    "        val_acc += accuracy_fun(inputs, targets)\n",
    "        val_batches += 1\n",
    "\n",
    "    \n",
    "    # Then we print the results for this epoch:\n",
    "    print(\"Epoch {} of {} took {:.3f}s\".format(\n",
    "        epoch + 1, num_epochs, time.time() - start_time))\n",
    "\n",
    "    print(\"  training loss (in-iteration):\\t\\t{:.6f}\".format(train_err / train_batches))\n",
    "    print(\"  train accuracy:\\t\\t{:.2f} %\".format(\n",
    "        train_acc / train_batches * 100))\n",
    "    print(\"  validation accuracy:\\t\\t{:.2f} %\".format(\n",
    "        val_acc / val_batches * 100))"
   ]
  },
  {
   "cell_type": "code",
   "execution_count": 370,
   "metadata": {
    "collapsed": false
   },
   "outputs": [
    {
     "data": {
      "text/plain": [
       "nan"
      ]
     },
     "execution_count": 370,
     "metadata": {},
     "output_type": "execute_result"
    }
   ],
   "source": [
    "out = lasagne.layers.get_output(dense_output, inputs=Xval)\n",
    "\n",
    "norm_inp = lasagne.layers.get_output(dense_2, Xval)\n",
    "\n",
    "out = out.eval()\n",
    "\n",
    "out_ans = []\n",
    "\n",
    "#f1_score(np.ravel(out),Yval)\n",
    "fmeasure(np.ravel(out),Yval)"
   ]
  },
  {
   "cell_type": "code",
   "execution_count": 352,
   "metadata": {
    "collapsed": false
   },
   "outputs": [
    {
     "data": {
      "text/plain": [
       "array([ 1.,  1.,  1.,  1.,  1.,  1.,  1.,  1.,  1.,  1.], dtype=float32)"
      ]
     },
     "execution_count": 352,
     "metadata": {},
     "output_type": "execute_result"
    }
   ],
   "source": [
    "np.ravel(out[:10])"
   ]
  },
  {
   "cell_type": "code",
   "execution_count": 321,
   "metadata": {
    "collapsed": false
   },
   "outputs": [
    {
     "data": {
      "text/plain": [
       "array([ 0.4227671 ,  0.        ,  0.        ,  0.08162348,  0.38785744,\n",
       "        0.        ,  1.74059975,  0.13581587,  2.30880523,  0.25078034,\n",
       "        0.        ,  1.21350598,  0.05336346,  0.24761648,  0.45958593,  0.        ], dtype=float32)"
      ]
     },
     "execution_count": 321,
     "metadata": {},
     "output_type": "execute_result"
    }
   ],
   "source": [
    "norm_inp.eval()[0]"
   ]
  },
  {
   "cell_type": "code",
   "execution_count": 288,
   "metadata": {
    "collapsed": false
   },
   "outputs": [
    {
     "data": {
      "text/plain": [
       "array([ nan,  nan,  nan,  nan,  nan,  nan,  nan,  nan,  nan,  nan,  nan,\n",
       "        nan,  nan,  nan,  nan,  nan,  nan,  nan,  nan,  nan,  nan,  nan,\n",
       "        nan,  nan,  nan,  nan,  nan,  nan,  nan,  nan,  nan,  nan,  nan,\n",
       "        nan,  nan,  nan,  nan,  nan,  nan,  nan,  nan,  nan,  nan,  nan,\n",
       "        nan,  nan,  nan,  nan,  nan,  nan,  nan,  nan,  nan,  nan,  nan,\n",
       "        nan,  nan,  nan,  nan,  nan,  nan,  nan,  nan,  nan,  nan,  nan,\n",
       "        nan,  nan,  nan,  nan,  nan,  nan,  nan,  nan,  nan,  nan,  nan,\n",
       "        nan,  nan,  nan,  nan,  nan,  nan,  nan,  nan,  nan,  nan,  nan,\n",
       "        nan,  nan,  nan,  nan,  nan,  nan], dtype=float32)"
      ]
     },
     "execution_count": 288,
     "metadata": {},
     "output_type": "execute_result"
    }
   ],
   "source": [
    "norm_inp.eval()[0]"
   ]
  },
  {
   "cell_type": "code",
   "execution_count": 100,
   "metadata": {
    "collapsed": false
   },
   "outputs": [
    {
     "data": {
      "text/plain": [
       "array([[ 0.83268303,  0.16731696],\n",
       "       [ 0.83268303,  0.16731696],\n",
       "       [ 0.83268303,  0.16731696],\n",
       "       [ 0.83268303,  0.16731696],\n",
       "       [ 0.83268303,  0.16731696],\n",
       "       [ 0.83268303,  0.16731696],\n",
       "       [ 0.83268303,  0.16731696],\n",
       "       [ 0.83268303,  0.16731696],\n",
       "       [ 0.83268303,  0.16731696],\n",
       "       [ 0.83268303,  0.16731696],\n",
       "       [ 0.83268303,  0.16731696],\n",
       "       [ 0.83268303,  0.16731696],\n",
       "       [ 0.83268303,  0.16731696],\n",
       "       [ 0.83268303,  0.16731696],\n",
       "       [ 0.83268303,  0.16731696],\n",
       "       [ 0.83268303,  0.16731696],\n",
       "       [ 0.83268303,  0.16731696],\n",
       "       [ 0.83268303,  0.16731696],\n",
       "       [ 0.83268303,  0.16731696],\n",
       "       [ 0.83268303,  0.16731696],\n",
       "       [ 0.83268303,  0.16731696],\n",
       "       [ 0.83268303,  0.16731696],\n",
       "       [ 0.83268303,  0.16731696],\n",
       "       [ 0.83268303,  0.16731696],\n",
       "       [ 0.83268303,  0.16731696],\n",
       "       [ 0.83268303,  0.16731696],\n",
       "       [ 0.83268303,  0.16731696],\n",
       "       [ 0.83268303,  0.16731696],\n",
       "       [ 0.83268303,  0.16731696],\n",
       "       [ 0.83268303,  0.16731696]], dtype=float32)"
      ]
     },
     "execution_count": 100,
     "metadata": {},
     "output_type": "execute_result"
    }
   ],
   "source": [
    "out[:30]"
   ]
  },
  {
   "cell_type": "code",
   "execution_count": 126,
   "metadata": {
    "collapsed": false
   },
   "outputs": [
    {
     "data": {
      "text/plain": [
       "numpy.ndarray"
      ]
     },
     "execution_count": 126,
     "metadata": {},
     "output_type": "execute_result"
    }
   ],
   "source": [
    "type(Xval)"
   ]
  },
  {
   "cell_type": "code",
   "execution_count": 113,
   "metadata": {
    "collapsed": false
   },
   "outputs": [
    {
     "data": {
      "text/plain": [
       "Shape.0"
      ]
     },
     "execution_count": 113,
     "metadata": {},
     "output_type": "execute_result"
    }
   ],
   "source": [
    "out = "
   ]
  },
  {
   "cell_type": "code",
   "execution_count": 82,
   "metadata": {
    "collapsed": false
   },
   "outputs": [
    {
     "name": "stdout",
     "output_type": "stream",
     "text": [
      "Final results:\n",
      "  test accuracy:\t\t96.43 %\n",
      "Double-check, than consider applying for NIPS'17. SRSly.\n"
     ]
    }
   ],
   "source": [
    "test_acc = 0\n",
    "test_batches = 0\n",
    "for batch in iterate_minibatches(Xval, Yval, 500):\n",
    "    inputs, targets = batch\n",
    "    acc = accuracy_fun(inputs, targets)\n",
    "    test_acc += acc\n",
    "    test_batches += 1\n",
    "print(\"Final results:\")\n",
    "print(\"  test accuracy:\\t\\t{:.2f} %\".format(\n",
    "    test_acc / test_batches * 100))\n",
    "\n",
    "if test_acc / test_batches * 100 > 95:\n",
    "    print (\"Double-check, than consider applying for NIPS'17. SRSly.\")\n",
    "elif test_acc / test_batches * 100 > 90:\n",
    "    print (\"U'r freakin' amazin'!\")\n",
    "elif test_acc / test_batches * 100 > 80:\n",
    "    print (\"Achievement unlocked: 110lvl Warlock!\")\n",
    "elif test_acc / test_batches * 100 > 70:\n",
    "    print (\"Achievement unlocked: 80lvl Warlock!\")\n",
    "elif test_acc / test_batches * 100 > 50:\n",
    "    print (\"Achievement unlocked: 60lvl Warlock!\")\n",
    "else:\n",
    "    print (\"We need more magic!\")"
   ]
  },
  {
   "cell_type": "code",
   "execution_count": 142,
   "metadata": {
    "collapsed": false
   },
   "outputs": [
    {
     "data": {
      "text/html": [
       "\n",
       "        <iframe\n",
       "            width=\"1000\"\n",
       "            height=\"700\"\n",
       "            src=\"examples/mlp.html\"\n",
       "            frameborder=\"0\"\n",
       "            allowfullscreen\n",
       "        ></iframe>\n",
       "        "
      ],
      "text/plain": [
       "<IPython.lib.display.IFrame at 0x7f5cd3d8e390>"
      ]
     },
     "execution_count": 142,
     "metadata": {},
     "output_type": "execute_result"
    }
   ],
   "source": [
    "from IPython.display import IFrame\n",
    "from theano.d3viz.d3viz import d3viz\n",
    "import theano.d3viz as d3v\n",
    "d3v.d3viz(y_predicted, 'examples/mlp.html')\n",
    "IFrame('examples/mlp.html', width=1000, height=700)"
   ]
  }
 ],
 "metadata": {
  "anaconda-cloud": {},
  "kernelspec": {
   "display_name": "Python [Root]",
   "language": "python",
   "name": "Python [Root]"
  },
  "language_info": {
   "codemirror_mode": {
    "name": "ipython",
    "version": 3
   },
   "file_extension": ".py",
   "mimetype": "text/x-python",
   "name": "python",
   "nbconvert_exporter": "python",
   "pygments_lexer": "ipython3",
   "version": "3.5.2"
  },
  "widgets": {
   "state": {
    "65713c50379e4c5a996da04df53bb137": {
     "views": [
      {
       "cell_index": 13
      }
     ]
    },
    "6694d35dc00a4507afd4c23d9b525f5a": {
     "views": [
      {
       "cell_index": 12
      }
     ]
    },
    "733208615ad74258955b2313fc7dee86": {
     "views": [
      {
       "cell_index": 9
      }
     ]
    },
    "93d85def9ee94005adf8cdf97f369e5e": {
     "views": [
      {
       "cell_index": 9
      }
     ]
    },
    "c6122c88525e4d4ea1398a6b1f2d588e": {
     "views": [
      {
       "cell_index": 9
      }
     ]
    },
    "dd38edc0ad9b4f76bfa6cbfe39227235": {
     "views": [
      {
       "cell_index": 12
      }
     ]
    },
    "e1c59cc7b24548c7b184dd184fa86e34": {
     "views": [
      {
       "cell_index": 12
      }
     ]
    }
   },
   "version": "1.2.0"
  }
 },
 "nbformat": 4,
 "nbformat_minor": 1
}
