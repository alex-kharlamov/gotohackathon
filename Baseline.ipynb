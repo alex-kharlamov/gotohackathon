{
 "cells": [
  {
   "cell_type": "code",
   "execution_count": 1,
   "metadata": {
    "button": false,
    "collapsed": false,
    "deletable": true,
    "new_sheet": false,
    "run_control": {
     "read_only": false
    }
   },
   "outputs": [],
   "source": [
    "import pandas as pd\n",
    "import numpy as np\n",
    "from sklearn.ensemble import RandomForestClassifier\n",
    "#from sklearn.neural_network import MLPClassifier\n",
    "\n",
    "def log_progress(sequence, every=None, size=None):\n",
    "    from ipywidgets import IntProgress, HTML, VBox\n",
    "    from IPython.display import display\n",
    "\n",
    "    is_iterator = False\n",
    "    if size is None:\n",
    "        try:\n",
    "            size = len(sequence)\n",
    "        except TypeError:\n",
    "            is_iterator = True\n",
    "    if size is not None:\n",
    "        if every is None:\n",
    "            if size <= 200:\n",
    "                every = 1\n",
    "            else:\n",
    "                every = size / 200     # every 0.5%\n",
    "    else:\n",
    "        assert every is not None, 'sequence is iterator, set every'\n",
    "\n",
    "    if is_iterator:\n",
    "        progress = IntProgress(min=0, max=1, value=1)\n",
    "        progress.bar_style = 'info'\n",
    "    else:\n",
    "        progress = IntProgress(min=0, max=size, value=0)\n",
    "    label = HTML()\n",
    "    box = VBox(children=[label, progress])\n",
    "    display(box)\n",
    "\n",
    "    index = 0\n",
    "    try:\n",
    "        for index, record in enumerate(sequence, 1):\n",
    "            if index == 1 or index % every == 0:\n",
    "                if is_iterator:\n",
    "                    label.value = '{index} / ?'.format(index=index)\n",
    "                else:\n",
    "                    progress.value = index\n",
    "                    label.value = u'{index} / {size}'.format(\n",
    "                        index=index,\n",
    "                        size=size\n",
    "                    )\n",
    "            yield record\n",
    "    except:\n",
    "        progress.bar_style = 'danger'\n",
    "        raise\n",
    "    else:\n",
    "        progress.bar_style = 'success'\n",
    "        progress.value = index\n",
    "        label.value = str(index or '?')"
   ]
  },
  {
   "cell_type": "code",
   "execution_count": 2,
   "metadata": {
    "button": false,
    "collapsed": false,
    "deletable": true,
    "new_sheet": false,
    "run_control": {
     "read_only": false
    }
   },
   "outputs": [],
   "source": [
    "location = ''\n",
    "events = pd.DataFrame.from_csv(location+\"user_activity.csv\",index_col=None)\n",
    "structure = pd.DataFrame.from_csv(location+\"structure.csv\",index_col=None)\n",
    "targets = pd.DataFrame.from_csv(location+\"targets.csv\",index_col=None)\n",
    "events_test = pd.DataFrame.from_csv(location+\"user_activity_test.csv\",index_col=None)"
   ]
  },
  {
   "cell_type": "code",
   "execution_count": 35,
   "metadata": {
    "collapsed": false
   },
   "outputs": [],
   "source": [
    "events_test.sort_values(by='time', inplace=True)"
   ]
  },
  {
   "cell_type": "code",
   "execution_count": 36,
   "metadata": {
    "collapsed": false
   },
   "outputs": [
    {
     "name": "stdout",
     "output_type": "stream",
     "text": [
      "0\n",
      "10000\n",
      "20000\n",
      "30000\n",
      "40000\n",
      "50000\n",
      "60000\n",
      "70000\n",
      "80000\n",
      "90000\n",
      "100000\n",
      "110000\n",
      "120000\n",
      "130000\n",
      "140000\n",
      "150000\n",
      "160000\n",
      "170000\n",
      "180000\n",
      "190000\n",
      "200000\n",
      "210000\n",
      "220000\n",
      "230000\n",
      "240000\n",
      "250000\n",
      "260000\n",
      "270000\n",
      "280000\n",
      "290000\n",
      "300000\n",
      "310000\n",
      "320000\n",
      "330000\n",
      "340000\n",
      "350000\n",
      "360000\n",
      "370000\n",
      "380000\n",
      "390000\n",
      "400000\n",
      "410000\n",
      "420000\n",
      "430000\n",
      "440000\n",
      "450000\n",
      "460000\n",
      "470000\n",
      "480000\n",
      "490000\n",
      "500000\n",
      "510000\n",
      "520000\n",
      "530000\n"
     ]
    }
   ],
   "source": [
    "for i, row in events_test.iterrows():\n",
    "    if events_test.loc[i,'action'] == 'discovered':\n",
    "        events_test.set_value(i, 'action', 1)\n",
    "    if events_test.loc[i, 'action'] == 'passed':\n",
    "        events_test.set_value(i, 'action', 2)\n",
    "    if events_test.loc[i, 'action'] == 'viewed':\n",
    "        events_test.set_value(i, 'action', 3)\n",
    "    if events_test.loc[i, 'action'] == 'started_attempt':\n",
    "        events_test.set_value(i, 'action', 4)\n",
    "    if events_test.loc[i, 'step_type'] == 'choice':\n",
    "        events_test.set_value(i, 'step_type', 1)\n",
    "    if events_test.loc[i, 'step_type'] == 'code':\n",
    "        events_test.set_value(i, 'step_type', 2)\n",
    "    if events_test.loc[i, 'step_type'] == 'number':\n",
    "        events_test.set_value(i, 'step_type', 3)\n",
    "    if events_test.loc[i, 'step_type'] == 'string':\n",
    "        events_test.set_value(i, 'step_type', 4)\n",
    "    if events_test.loc[i, 'step_type'] == 'text':\n",
    "        events_test.set_value(i, 'step_type', 5)\n",
    "    if events_test.loc[i, 'step_type'] == 'video':\n",
    "        events_test.set_value(i, 'step_type', 6)\n",
    "        \n",
    "    if i % (10 ** 4) == 0:\n",
    "        print(i)"
   ]
  },
  {
   "cell_type": "code",
   "execution_count": 91,
   "metadata": {
    "collapsed": true
   },
   "outputs": [],
   "source": [
    "events.to_csv('events_modifyed.csv')"
   ]
  },
  {
   "cell_type": "code",
   "execution_count": 9,
   "metadata": {
    "collapsed": false
   },
   "outputs": [],
   "source": [
    "structure.sort_values(['module_position','lesson_position', 'step_position'], inplace=True)"
   ]
  },
  {
   "cell_type": "code",
   "execution_count": 10,
   "metadata": {
    "collapsed": false
   },
   "outputs": [],
   "source": [
    "step_id_position = structure.step_id.values.tolist()"
   ]
  },
  {
   "cell_type": "code",
   "execution_count": 14,
   "metadata": {
    "collapsed": false
   },
   "outputs": [
    {
     "data": {
      "text/plain": [
       "[7225,\n",
       " 7230,\n",
       " 7231,\n",
       " 7232,\n",
       " 43604,\n",
       " 7233,\n",
       " 10828,\n",
       " 2828,\n",
       " 4848,\n",
       " 4850,\n",
       " 4851,\n",
       " 6219,\n",
       " 6220,\n",
       " 6221,\n",
       " 6222,\n",
       " 2824,\n",
       " 2825,\n",
       " 7257,\n",
       " 6950,\n",
       " 2827,\n",
       " 6951,\n",
       " 6954,\n",
       " 6956,\n",
       " 6957,\n",
       " 6958,\n",
       " 6959,\n",
       " 2829,\n",
       " 7268,\n",
       " 6962,\n",
       " 6963,\n",
       " 6964,\n",
       " 6965,\n",
       " 44097,\n",
       " 7270,\n",
       " 6970,\n",
       " 6969,\n",
       " 6974,\n",
       " 6975,\n",
       " 6976,\n",
       " 6977,\n",
       " 2839,\n",
       " 2832,\n",
       " 4287,\n",
       " 39541,\n",
       " 39540,\n",
       " 7271,\n",
       " 6986,\n",
       " 6985,\n",
       " 6988,\n",
       " 6987,\n",
       " 6984,\n",
       " 42210,\n",
       " 4289,\n",
       " 7299,\n",
       " 7303,\n",
       " 7304,\n",
       " 7305,\n",
       " 7309,\n",
       " 2857,\n",
       " 54850,\n",
       " 7310,\n",
       " 7312,\n",
       " 7311,\n",
       " 43608,\n",
       " 41483,\n",
       " 7322,\n",
       " 2868,\n",
       " 40949,\n",
       " 39542,\n",
       " 40958,\n",
       " 42203,\n",
       " 39598,\n",
       " 40959,\n",
       " 40964,\n",
       " 39605,\n",
       " 39606,\n",
       " 40960,\n",
       " 43605,\n",
       " 43607,\n",
       " 43606,\n",
       " 39597,\n",
       " 2681,\n",
       " 6998,\n",
       " 6999,\n",
       " 7000,\n",
       " 7001,\n",
       " 7002,\n",
       " 9768,\n",
       " 7004,\n",
       " 7003,\n",
       " 7005,\n",
       " 7006,\n",
       " 7007,\n",
       " 2682,\n",
       " 4952,\n",
       " 4955,\n",
       " 4988,\n",
       " 9769,\n",
       " 7009,\n",
       " 7010,\n",
       " 7011,\n",
       " 7012,\n",
       " 7013,\n",
       " 2917,\n",
       " 3124,\n",
       " 39620,\n",
       " 9770,\n",
       " 7019,\n",
       " 7020,\n",
       " 7021,\n",
       " 7022,\n",
       " 2918,\n",
       " 2919,\n",
       " 4969,\n",
       " 2920,\n",
       " 2885,\n",
       " 9771,\n",
       " 7023,\n",
       " 7024,\n",
       " 9810,\n",
       " 7025,\n",
       " 7026,\n",
       " 7027,\n",
       " 3123,\n",
       " 3130,\n",
       " 9772,\n",
       " 7030,\n",
       " 9811,\n",
       " 7029,\n",
       " 7031,\n",
       " 7032,\n",
       " 7033,\n",
       " 7034,\n",
       " 3139,\n",
       " 39630,\n",
       " 9773,\n",
       " 7039,\n",
       " 7040,\n",
       " 7041,\n",
       " 7042,\n",
       " 7043,\n",
       " 7044,\n",
       " 2687,\n",
       " 7422,\n",
       " 8566,\n",
       " 9774,\n",
       " 7047,\n",
       " 7046,\n",
       " 7048,\n",
       " 9813,\n",
       " 7049,\n",
       " 7050,\n",
       " 7052,\n",
       " 7053,\n",
       " 2688,\n",
       " 9994,\n",
       " 9996,\n",
       " 9998,\n",
       " 9997,\n",
       " 40985,\n",
       " 40989,\n",
       " 40990,\n",
       " 2689,\n",
       " 9999,\n",
       " 10000,\n",
       " 10002,\n",
       " 10001,\n",
       " 10003,\n",
       " 2690,\n",
       " 10005,\n",
       " 10006,\n",
       " 10004,\n",
       " 10007,\n",
       " 10009,\n",
       " 10008,\n",
       " 10010,\n",
       " 10011,\n",
       " 10179,\n",
       " 10184,\n",
       " 10181,\n",
       " 2691,\n",
       " 10012,\n",
       " 10014,\n",
       " 10013,\n",
       " 10015,\n",
       " 2692,\n",
       " 10017,\n",
       " 10016,\n",
       " 10018,\n",
       " 10020,\n",
       " 10019,\n",
       " 44174,\n",
       " 2693,\n",
       " 10021,\n",
       " 10023,\n",
       " 10022,\n",
       " 10622,\n",
       " 41025,\n",
       " 10027,\n",
       " 10026,\n",
       " 10024,\n",
       " 10025,\n",
       " 10028,\n",
       " 10189,\n",
       " 2694,\n",
       " 10029,\n",
       " 10031,\n",
       " 10030,\n",
       " 10033,\n",
       " 10032,\n",
       " 10035,\n",
       " 10034,\n",
       " 41020,\n",
       " 10192,\n",
       " 10197,\n",
       " 41021,\n",
       " 2695,\n",
       " 10038,\n",
       " 10036,\n",
       " 10037,\n",
       " 2696,\n",
       " 10660,\n",
       " 10661,\n",
       " 10662,\n",
       " 10663,\n",
       " 10664,\n",
       " 10565,\n",
       " 10700,\n",
       " 42436,\n",
       " 2697,\n",
       " 10669,\n",
       " 10672,\n",
       " 10670,\n",
       " 10671,\n",
       " 10566,\n",
       " 10568,\n",
       " 10569,\n",
       " 10570,\n",
       " 2698,\n",
       " 10674,\n",
       " 10673,\n",
       " 10675,\n",
       " 10676,\n",
       " 10677,\n",
       " 44160,\n",
       " 10590,\n",
       " 2699,\n",
       " 10678,\n",
       " 10679,\n",
       " 10681,\n",
       " 10682,\n",
       " 10680,\n",
       " 10614,\n",
       " 2700,\n",
       " 10683,\n",
       " 10686,\n",
       " 10685,\n",
       " 10684,\n",
       " 10688,\n",
       " 10687,\n",
       " 10689,\n",
       " 42513,\n",
       " 42514,\n",
       " 2701,\n",
       " 10690,\n",
       " 10693,\n",
       " 10691,\n",
       " 10692,\n",
       " 10694,\n",
       " 44167,\n",
       " 2702,\n",
       " 11054,\n",
       " 11055,\n",
       " 11057,\n",
       " 11056,\n",
       " 11059,\n",
       " 11058,\n",
       " 11060,\n",
       " 11061,\n",
       " 11062,\n",
       " 2703,\n",
       " 11063,\n",
       " 10952,\n",
       " 10951,\n",
       " 11064,\n",
       " 10953,\n",
       " 11065,\n",
       " 10956,\n",
       " 44313,\n",
       " 11081,\n",
       " 11159,\n",
       " 11160,\n",
       " 11163,\n",
       " 11164,\n",
       " 2704,\n",
       " 11066,\n",
       " 11068,\n",
       " 11069,\n",
       " 11067,\n",
       " 11071,\n",
       " 11070,\n",
       " 11072,\n",
       " 11073,\n",
       " 11167,\n",
       " 11166,\n",
       " 11165,\n",
       " 11169,\n",
       " 11168,\n",
       " 11170,\n",
       " 2705,\n",
       " 11074,\n",
       " 11075,\n",
       " 11076,\n",
       " 11077,\n",
       " 2706,\n",
       " 11079,\n",
       " 11078,\n",
       " 2707,\n",
       " 11536,\n",
       " 11537,\n",
       " 11538,\n",
       " 11539,\n",
       " 11445,\n",
       " 11455,\n",
       " 11575,\n",
       " 2708,\n",
       " 11540,\n",
       " 11541,\n",
       " 11542,\n",
       " 11479,\n",
       " 11469,\n",
       " 11685,\n",
       " 11471,\n",
       " 11463,\n",
       " 11543,\n",
       " 11572,\n",
       " 2710,\n",
       " 11545,\n",
       " 11544,\n",
       " 11546,\n",
       " 11547,\n",
       " 11486,\n",
       " 11484,\n",
       " 2711,\n",
       " 11548,\n",
       " 11487,\n",
       " 11549,\n",
       " 11550,\n",
       " 11551,\n",
       " 11552,\n",
       " 11553,\n",
       " 84530,\n",
       " 84531,\n",
       " 84377]"
      ]
     },
     "execution_count": 14,
     "metadata": {},
     "output_type": "execute_result"
    }
   ],
   "source": [
    "step_id_position"
   ]
  },
  {
   "cell_type": "code",
   "execution_count": 189,
   "metadata": {
    "collapsed": false
   },
   "outputs": [],
   "source": [
    "X = [] #по каждому юзеру имеем век. где параметры : id, набран счет, популяр.рубрика\n",
    "for us_id in log_progress(set(events.user_id.tolist())):\n",
    "    temp_us_data = events[events.user_id == us_id]\n",
    "    temp_us_to_app_vec = []\n",
    "    \n",
    "    temp_us_to_app_vec.append(us_id)\n",
    "    \n",
    "    temp_us_to_app_vec.append(temp_us_data.step_cost.sum())\n",
    "    temp_us_to_app_vec.append(temp_us_data.step_cost.mean())\n",
    "    temp_us_to_app_vec.extend(temp_us_data.step_cost.describe().tolist())\n",
    "    \n",
    "    temp_us_to_app_vec.append(temp_us_data.step_type.max())\n",
    "    temp_us_to_app_vec.append(temp_us_data.step_type.min())\n",
    "    temp_us_to_app_vec.extend(temp_us_data.step_type.describe().tolist())\n",
    "    \n",
    "    temp_us_to_app_vec.append(temp_us_data.time.mean())\n",
    "    temp_us_to_app_vec.append(temp_us_data.time.max() - temp_us_data.time.min())\n",
    "    temp_us_to_app_vec.extend(temp_us_data.time.describe().values.tolist())\n",
    "\n",
    "\n",
    "    temp_us_to_app_vec.extend(temp_us_data.action.describe().tolist())\n",
    "    \n",
    "    pos_frame = pd.DataFrame([step_id_position.index(elem) for elem in temp_us_data.step_id])\n",
    "    for elem in pos_frame.describe().values.tolist():\n",
    "        temp_us_to_app_vec.append(elem[0])\n",
    "    \n",
    "    \n",
    "    X.append(temp_us_to_app_vec)\n",
    "Y = []\n",
    "\n",
    "for elem in log_progress(X):\n",
    "    Y.append([targets[targets.user_id == elem[0]].passed.values[0]])"
   ]
  },
  {
   "cell_type": "code",
   "execution_count": 95,
   "metadata": {
    "collapsed": true
   },
   "outputs": [],
   "source": [
    "X_test = [] #по каждому юзеру имеем век. где параметры : id, набран счет, популяр.рубрика\n",
    "for us_id in log_progress(set(events_test.user_id.tolist())):\n",
    "    temp_us_data = events_test[events_test.user_id == us_id]\n",
    "    temp_us_to_app_vec = []\n",
    "    \n",
    "    temp_us_to_app_vec.append(us_id)\n",
    "    \n",
    "    temp_us_to_app_vec.append(temp_us_data.step_cost.sum())\n",
    "    temp_us_to_app_vec.append(temp_us_data.step_cost.mean())\n",
    "    temp_us_to_app_vec.extend(temp_us_data.step_cost.describe().tolist())\n",
    "    \n",
    "    temp_us_to_app_vec.append(temp_us_data.step_type.max())\n",
    "    temp_us_to_app_vec.append(temp_us_data.step_type.min())\n",
    "    temp_us_to_app_vec.extend(temp_us_data.step_type.describe().tolist())\n",
    "    \n",
    "    temp_us_to_app_vec.append(temp_us_data.time.mean())\n",
    "    temp_us_to_app_vec.append(temp_us_data.time.max() - temp_us_data.time.min())\n",
    "    temp_us_to_app_vec.extend(temp_us_data.time.describe().values.tolist())\n",
    "\n",
    "\n",
    "    temp_us_to_app_vec.extend(temp_us_data.action.describe().tolist())\n",
    "    \n",
    "    pos_frame = pd.DataFrame([step_id_position.index(elem) for elem in temp_us_data.step_id])\n",
    "    for elem in pos_frame.describe().values.tolist():\n",
    "        temp_us_to_app_vec.append(elem[0])\n",
    "    \n",
    "    \n",
    "    X_test.append(temp_us_to_app_vec)"
   ]
  },
  {
   "cell_type": "code",
   "execution_count": 249,
   "metadata": {
    "collapsed": false
   },
   "outputs": [],
   "source": [
    "X_new = pd.DataFrame(X).fillna(method='ffill')\n",
    "X_test = pd.DataFrame(X_test).fillna(method='ffill')"
   ]
  },
  {
   "cell_type": "code",
   "execution_count": 234,
   "metadata": {
    "collapsed": false
   },
   "outputs": [],
   "source": [
    "Y = np.ravel(Y)"
   ]
  },
  {
   "cell_type": "code",
   "execution_count": 39,
   "metadata": {
    "button": false,
    "collapsed": true,
    "deletable": true,
    "new_sheet": false,
    "run_control": {
     "read_only": false
    }
   },
   "outputs": [],
   "source": [
    "def getX(ev):\n",
    "    'Функция формирует входные вектора для алгоритма RandomForest'\n",
    "    sc  = ev.groupby('user_id')\n",
    "    return (sc.sum().index, sc.sum().step_cost.values.reshape((-1, 1)))"
   ]
  },
  {
   "cell_type": "code",
   "execution_count": 254,
   "metadata": {
    "button": false,
    "collapsed": false,
    "deletable": true,
    "new_sheet": false,
    "run_control": {
     "read_only": false
    }
   },
   "outputs": [],
   "source": [
    "#model = DummyClassifier( constant=0)\n",
    "from sklearn.ensemble import ExtraTreesClassifier\n",
    "model =  ExtraTreesClassifier(verbose=1, n_jobs = -1, n_estimators=3 * 10 ** 4)"
   ]
  },
  {
   "cell_type": "code",
   "execution_count": 319,
   "metadata": {
    "collapsed": true
   },
   "outputs": [],
   "source": [
    "from sklearn.ensemble import RandomForestClassifier\n",
    "model = RandomForestClassifier(verbose=1, n_jobs = -1, n_estimators = 10)"
   ]
  },
  {
   "cell_type": "code",
   "execution_count": 315,
   "metadata": {
    "collapsed": true
   },
   "outputs": [],
   "source": [
    "from sklearn.neighbors import KNeighborsClassifier\n",
    "model = KNeighborsClassifier(n_jobs=-1, n_neighbors=2)"
   ]
  },
  {
   "cell_type": "code",
   "execution_count": 328,
   "metadata": {
    "button": false,
    "collapsed": false,
    "deletable": true,
    "new_sheet": false,
    "run_control": {
     "read_only": false
    }
   },
   "outputs": [],
   "source": [
    "from sklearn.cross_validation import train_test_split\n",
    "from sklearn.metrics import f1_score\n",
    "#Поделим нашу выборку на train и validation\n",
    "Xtr,Xval,Ytr,Yval = train_test_split(X_new,Y,test_size=0.2,random_state=64)"
   ]
  },
  {
   "cell_type": "code",
   "execution_count": 329,
   "metadata": {
    "button": false,
    "collapsed": false,
    "deletable": true,
    "new_sheet": false,
    "run_control": {
     "read_only": false
    }
   },
   "outputs": [
    {
     "name": "stderr",
     "output_type": "stream",
     "text": [
      "[Parallel(n_jobs=-1)]: Done  10 out of  10 | elapsed:    0.1s finished\n"
     ]
    },
    {
     "data": {
      "text/plain": [
       "RandomForestClassifier(bootstrap=True, class_weight=None, criterion='gini',\n",
       "            max_depth=None, max_features='auto', max_leaf_nodes=None,\n",
       "            min_samples_leaf=1, min_samples_split=2,\n",
       "            min_weight_fraction_leaf=0.0, n_estimators=10, n_jobs=-1,\n",
       "            oob_score=False, random_state=None, verbose=1,\n",
       "            warm_start=False)"
      ]
     },
     "execution_count": 329,
     "metadata": {},
     "output_type": "execute_result"
    }
   ],
   "source": [
    "#Обучим модель\n",
    "model.fit(Xtr, Ytr)"
   ]
  },
  {
   "cell_type": "code",
   "execution_count": 330,
   "metadata": {
    "button": false,
    "collapsed": false,
    "deletable": true,
    "new_sheet": false,
    "run_control": {
     "read_only": false
    }
   },
   "outputs": [
    {
     "name": "stdout",
     "output_type": "stream",
     "text": [
      "0.366492146597\n"
     ]
    },
    {
     "name": "stderr",
     "output_type": "stream",
     "text": [
      "[Parallel(n_jobs=4)]: Done  10 out of  10 | elapsed:    0.0s finished\n"
     ]
    }
   ],
   "source": [
    "#Оценим метрику на validation\n",
    "print(f1_score(Yval, model.predict(Xval)))"
   ]
  },
  {
   "cell_type": "code",
   "execution_count": 247,
   "metadata": {
    "button": false,
    "collapsed": true,
    "deletable": true,
    "new_sheet": false,
    "run_control": {
     "read_only": false
    }
   },
   "outputs": [],
   "source": [
    "def create_submission(X, name):\n",
    "    np.savetxt('%s.csv'%name, X, delimiter=',', fmt=\"%d\", header='user_id,passed', comments='')"
   ]
  },
  {
   "cell_type": "code",
   "execution_count": 286,
   "metadata": {
    "button": false,
    "collapsed": false,
    "deletable": true,
    "new_sheet": false,
    "run_control": {
     "read_only": false
    }
   },
   "outputs": [
    {
     "name": "stderr",
     "output_type": "stream",
     "text": [
      "[Parallel(n_jobs=4)]: Done  10 out of  10 | elapsed:    0.0s finished\n"
     ]
    }
   ],
   "source": [
    "#Предскажем результат и запишем его в .csv\n",
    "ans = model.predict(X_test)\n",
    "result = np.concatenate((np.asarray(ind_test, dtype=int).reshape(-1, 1), np.asarray(ans, dtype=int).reshape(-1, 1)), axis=1)\n",
    "create_submission(result, 'Rand_for_0.48')"
   ]
  },
  {
   "cell_type": "code",
   "execution_count": 304,
   "metadata": {
    "collapsed": false
   },
   "outputs": [
    {
     "data": {
      "text/plain": [
       "81.0"
      ]
     },
     "execution_count": 304,
     "metadata": {},
     "output_type": "execute_result"
    }
   ],
   "source": [
    "ans.sum()"
   ]
  }
 ],
 "metadata": {
  "anaconda-cloud": {},
  "kernelspec": {
   "display_name": "Python [default]",
   "language": "python",
   "name": "python3"
  },
  "language_info": {
   "codemirror_mode": {
    "name": "ipython",
    "version": 3
   },
   "file_extension": ".py",
   "mimetype": "text/x-python",
   "name": "python",
   "nbconvert_exporter": "python",
   "pygments_lexer": "ipython3",
   "version": "3.5.2"
  },
  "widgets": {
   "state": {
    "65713c50379e4c5a996da04df53bb137": {
     "views": [
      {
       "cell_index": 13
      }
     ]
    },
    "6694d35dc00a4507afd4c23d9b525f5a": {
     "views": [
      {
       "cell_index": 12
      }
     ]
    },
    "733208615ad74258955b2313fc7dee86": {
     "views": [
      {
       "cell_index": 9
      }
     ]
    },
    "93d85def9ee94005adf8cdf97f369e5e": {
     "views": [
      {
       "cell_index": 9
      }
     ]
    },
    "c6122c88525e4d4ea1398a6b1f2d588e": {
     "views": [
      {
       "cell_index": 9
      }
     ]
    },
    "dd38edc0ad9b4f76bfa6cbfe39227235": {
     "views": [
      {
       "cell_index": 12
      }
     ]
    },
    "e1c59cc7b24548c7b184dd184fa86e34": {
     "views": [
      {
       "cell_index": 12
      }
     ]
    }
   },
   "version": "1.2.0"
  }
 },
 "nbformat": 4,
 "nbformat_minor": 1
}
