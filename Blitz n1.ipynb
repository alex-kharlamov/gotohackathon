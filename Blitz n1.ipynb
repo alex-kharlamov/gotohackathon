{
 "cells": [
  {
   "cell_type": "code",
   "execution_count": 1,
   "metadata": {
    "collapsed": true
   },
   "outputs": [],
   "source": [
    "import pandas\n",
    "import numpy"
   ]
  },
  {
   "cell_type": "code",
   "execution_count": 2,
   "metadata": {
    "collapsed": true
   },
   "outputs": [],
   "source": [
    "events = pandas.read_csv('course-217-events.csv')\n",
    "structure = pandas.read_csv('course-217-structure.csv')"
   ]
  },
  {
   "cell_type": "code",
   "execution_count": 3,
   "metadata": {
    "collapsed": false
   },
   "outputs": [],
   "source": [
    "events.sort_values(by='time', inplace=True)"
   ]
  },
  {
   "cell_type": "code",
   "execution_count": 4,
   "metadata": {
    "collapsed": false
   },
   "outputs": [],
   "source": [
    "step_id_cost = {}\n",
    "\n",
    "for elem in (structure.values):\n",
    "    step_id_cost[elem[5]] = elem[8]\n",
    "    "
   ]
  },
  {
   "cell_type": "code",
   "execution_count": 5,
   "metadata": {
    "collapsed": false
   },
   "outputs": [],
   "source": [
    "users_score = {}\n",
    "best_user = {}\n",
    "for event in (events.values):\n",
    "    user = event[0]\n",
    "    st_id = event[2]\n",
    "    \n",
    "    if (user not in users_score.keys()):\n",
    "        users_score[user] = [0, event[3]]\n",
    "    \n",
    "    if (event[1] == 'passed'):\n",
    "        users_score[user][0]  +=  + step_id_cost[st_id]\n",
    "        if (users_score.get(user, [0,0])[0] >= 24) and (user not in best_user):\n",
    "            best_user[user] = event[3] - users_score[user][1]\n",
    "  "
   ]
  },
  {
   "cell_type": "code",
   "execution_count": 7,
   "metadata": {
    "collapsed": false
   },
   "outputs": [
    {
     "name": "stdout",
     "output_type": "stream",
     "text": [
      "4313,1264,821,1146,1124,2622,713,972,4280,1291,"
     ]
    }
   ],
   "source": [
    "for elem in pandas.DataFrame(list(best_user.items())).sort_values(by=1)[:10][0].tolist():\n",
    "    print(elem, end=',')"
   ]
  }
 ],
 "metadata": {
  "anaconda-cloud": {},
  "kernelspec": {
   "display_name": "Python [Root]",
   "language": "python",
   "name": "Python [Root]"
  },
  "language_info": {
   "codemirror_mode": {
    "name": "ipython",
    "version": 3
   },
   "file_extension": ".py",
   "mimetype": "text/x-python",
   "name": "python",
   "nbconvert_exporter": "python",
   "pygments_lexer": "ipython3",
   "version": "3.5.2"
  }
 },
 "nbformat": 4,
 "nbformat_minor": 0
}
